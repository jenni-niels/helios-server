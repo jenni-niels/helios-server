{
 "cells": [
  {
   "cell_type": "code",
   "execution_count": 118,
   "metadata": {},
   "outputs": [],
   "source": [
    "import sys\n",
    "sys.path.append(\"../../helios-server/\")\n",
    "import helios.models as models\n",
    "from helios_auth import models as auth_model\n",
    "import helios.views as views\n",
    "from helios.models import CastVote, Voter, Trustee\n",
    "from helios.workflows.homomorphic import EncryptedVote, Tally\n",
    "from election_utils import *\n",
    "from tqdm import tqdm, trange\n",
    "# import click\n",
    "import time\n",
    "import os\n",
    "import matplotlib.pyplot as plt\n",
    "import numpy as np"
   ]
  },
  {
   "cell_type": "code",
   "execution_count": 127,
   "metadata": {},
   "outputs": [],
   "source": [
    "num_questions = 4\n",
    "num_choices = 4\n",
    "num_trustees = 1\n",
    "num_voters = 1"
   ]
  },
  {
   "cell_type": "code",
   "execution_count": 128,
   "metadata": {},
   "outputs": [],
   "source": [
    "election = models.Election.get_by_short_name(f'election_{num_questions}_questions_{num_choices}_choices_{num_trustees}_trustees_{num_voters}_voters')"
   ]
  },
  {
   "cell_type": "code",
   "execution_count": 129,
   "metadata": {},
   "outputs": [],
   "source": [
    "if election is None:\n",
    "    os.system(f\"python prep_election.py -q {num_questions} -c {num_choices} -v {num_voters}\")\n",
    "election = models.Election.get_by_short_name(f'election_{num_questions}_questions_{num_choices}_choices_{num_trustees}_trustees_{num_voters}_voters')"
   ]
  },
  {
   "cell_type": "code",
   "execution_count": 130,
   "metadata": {},
   "outputs": [
    {
     "data": {
      "text/plain": [
       "<Election: Election object (1)>"
      ]
     },
     "execution_count": 130,
     "metadata": {},
     "output_type": "execute_result"
    }
   ],
   "source": [
    "election"
   ]
  },
  {
   "cell_type": "code",
   "execution_count": 131,
   "metadata": {},
   "outputs": [],
   "source": [
    "answers = prepare_answers(num_questions, num_choices)"
   ]
  },
  {
   "cell_type": "code",
   "execution_count": 132,
   "metadata": {},
   "outputs": [
    {
     "data": {
      "text/plain": [
       "[[1, 3, 0], [1, 2], [1, 0, 2], [0]]"
      ]
     },
     "execution_count": 132,
     "metadata": {},
     "output_type": "execute_result"
    }
   ],
   "source": [
    "answers"
   ]
  },
  {
   "cell_type": "code",
   "execution_count": 133,
   "metadata": {},
   "outputs": [
    {
     "name": "stderr",
     "output_type": "stream",
     "text": [
      "  0%|          | 10/1000000 [00:03<110:19:35,  2.52it/s]"
     ]
    },
    {
     "name": "stdout",
     "output_type": "stream",
     "text": [
      "#Votes: 10, Tally-Time: 0.02122335508465767\n"
     ]
    },
    {
     "name": "stderr",
     "output_type": "stream",
     "text": [
      "  0%|          | 385/1000000 [00:05<1:54:45, 145.18it/s]"
     ]
    },
    {
     "name": "stdout",
     "output_type": "stream",
     "text": [
      "#Votes: 100, Tally-Time: 0.022913534194231033\n"
     ]
    },
    {
     "name": "stderr",
     "output_type": "stream",
     "text": [
      "  0%|          | 1216/1000000 [00:06<29:18, 568.12it/s] "
     ]
    },
    {
     "name": "stdout",
     "output_type": "stream",
     "text": [
      "#Votes: 1000, Tally-Time: 0.04175592586398125\n"
     ]
    },
    {
     "name": "stderr",
     "output_type": "stream",
     "text": [
      "  1%|          | 10210/1000000 [00:12<25:09, 655.91it/s]"
     ]
    },
    {
     "name": "stdout",
     "output_type": "stream",
     "text": [
      "#Votes: 10000, Tally-Time: 0.233208529651165\n"
     ]
    },
    {
     "name": "stderr",
     "output_type": "stream",
     "text": [
      "  7%|▋         | 65224/1000000 [00:51<10:58, 1419.28it/s]"
     ]
    }
   ],
   "source": [
    "tally = Tally(election=election)\n",
    "vote = EncryptedVote.fromElectionAndAnswers(election, answers)\n",
    "\n",
    "stops = [10**i for i in range(1, 7)]\n",
    "votes = []\n",
    "times = []\n",
    "\n",
    "for i in trange(1, stops[-1]+1):\n",
    "    tally.add_vote(vote, verify_p=False)\n",
    "    if i in stops:\n",
    "        election.encrypted_tally = tally\n",
    "        election.helios_trustee_decrypt()\n",
    "        trustees = Trustee.get_by_election(election)\n",
    "        decryption_factors = [t.decryption_factors for t in trustees]\n",
    "\n",
    "        tic = time.perf_counter()\n",
    "        result = tally.decrypt_from_factors(decryption_factors, election.public_key)\n",
    "\n",
    "        toc = time.perf_counter()\n",
    "        decrypt_time = toc - tic\n",
    "        print(f\"#Votes: {i}, Tally-Time: {decrypt_time}\")\n",
    "        votes.append(i)\n",
    "        times.append(decrypt_time)\n",
    "        # print(result)\n",
    "        \n",
    "np.save(f\"timing_results/decryption_times_{votes[-1]}V_{num_questions}Q_{num_choices}C.npy\", [votes, times])"
   ]
  },
  {
   "cell_type": "code",
   "execution_count": 126,
   "metadata": {},
   "outputs": [],
   "source": []
  },
  {
   "cell_type": "code",
   "execution_count": null,
   "metadata": {},
   "outputs": [],
   "source": []
  },
  {
   "cell_type": "code",
   "execution_count": null,
   "metadata": {},
   "outputs": [],
   "source": []
  },
  {
   "cell_type": "code",
   "execution_count": 89,
   "metadata": {},
   "outputs": [],
   "source": [
    "tally.add_vote(vote, verify_p=False)"
   ]
  },
  {
   "cell_type": "code",
   "execution_count": 90,
   "metadata": {},
   "outputs": [
    {
     "data": {
      "text/plain": [
       "1"
      ]
     },
     "execution_count": 90,
     "metadata": {},
     "output_type": "execute_result"
    }
   ],
   "source": [
    "tally.num_tallied"
   ]
  },
  {
   "cell_type": "code",
   "execution_count": 94,
   "metadata": {},
   "outputs": [
    {
     "name": "stdout",
     "output_type": "stream",
     "text": [
      "CPU times: user 109 ms, sys: 51 µs, total: 109 ms\n",
      "Wall time: 110 ms\n"
     ]
    }
   ],
   "source": [
    "%%time\n",
    "# gather the decryption factors\n",
    "election.encrypted_tally = tally\n",
    "election.helios_trustee_decrypt()\n",
    "trustees = Trustee.get_by_election(election)\n",
    "decryption_factors = [t.decryption_factors for t in trustees]\n",
    "result = tally.decrypt_from_factors(decryption_factors, election.public_key)"
   ]
  },
  {
   "cell_type": "code",
   "execution_count": 92,
   "metadata": {},
   "outputs": [
    {
     "data": {
      "text/plain": [
       "<helios.workflows.homomorphic.Tally at 0x7f1ac6b27c40>"
      ]
     },
     "execution_count": 92,
     "metadata": {},
     "output_type": "execute_result"
    }
   ],
   "source": [
    "tally"
   ]
  },
  {
   "cell_type": "code",
   "execution_count": 95,
   "metadata": {},
   "outputs": [
    {
     "data": {
      "text/plain": [
       "[[0, 1, 1, 1]]"
      ]
     },
     "execution_count": 95,
     "metadata": {},
     "output_type": "execute_result"
    }
   ],
   "source": [
    "result"
   ]
  },
  {
   "cell_type": "code",
   "execution_count": 40,
   "metadata": {},
   "outputs": [
    {
     "data": {
      "text/plain": [
       "{'pk': <helios.crypto.elgamal.PublicKey at 0x7f1ac6bcb8b0>,\n",
       " 'alpha': 280004405091145374651889405264302285081934236931410147033432346617204077776908073635919961513827794442541035801908763272058776562934892963437873812429502053859626295589900565685583259446644991387364649447783407615899897564915153904348140675302615674888510475137552744421674111560058890849955630814445082131728562955102586914130200434580800588737935924566128527999901433416309331993541718937139699604183490311212019870721296806845435742431841948282216116650061445389511167564400321825347638299834236376024385640139343432660573419068174082091650812749276739730266434346412673161994495142154981283179281629543247206889,\n",
       " 'beta': 15815842659491905966655868940620984639386509957561979187434506841798882984411434875340155291994608846919222313810284850053469639598489928870766833073110214853110820121137476739454365674362176782161755004109660214411463933661742772446392643113086163930612687107964034495284754323952214011558906910463579872225465569483567468095859987544147752047337657010222437413293499927503627460753456115151006443926590614572287463978688381571762904826329894072337831021104994639531908587601480749319644807447567714277800645374468809334061118902599228561840142842912297145961117704184988707687075918259420149324511935972231262761374}"
      ]
     },
     "execution_count": 40,
     "metadata": {},
     "output_type": "execute_result"
    }
   ],
   "source": [
    "vote.encrypted_answers[0].choices[0].__dict__"
   ]
  },
  {
   "cell_type": "code",
   "execution_count": null,
   "metadata": {},
   "outputs": [],
   "source": [
    "# election.compute_tally(verify_p=True)"
   ]
  },
  {
   "cell_type": "code",
   "execution_count": 30,
   "metadata": {},
   "outputs": [
    {
     "data": {
      "text/plain": [
       "<helios.workflows.homomorphic.EncryptedVote at 0x7f1ac7471af0>"
      ]
     },
     "execution_count": 30,
     "metadata": {},
     "output_type": "execute_result"
    }
   ],
   "source": [
    "vote"
   ]
  },
  {
   "cell_type": "code",
   "execution_count": 41,
   "metadata": {},
   "outputs": [],
   "source": [
    "castvote = CastVote(vote=vote, vote_hash=vote.hash, voter=None)"
   ]
  },
  {
   "cell_type": "code",
   "execution_count": 50,
   "metadata": {},
   "outputs": [
    {
     "data": {
      "text/plain": [
       "<helios.crypto.elgamal.Ciphertext at 0x7f1ac7471a60>"
      ]
     },
     "execution_count": 50,
     "metadata": {},
     "output_type": "execute_result"
    }
   ],
   "source": [
    "castvote.vote.encrypted_answers[0].choices[0]"
   ]
  },
  {
   "cell_type": "code",
   "execution_count": null,
   "metadata": {},
   "outputs": [],
   "source": []
  }
 ],
 "metadata": {
  "kernelspec": {
   "display_name": "Python 3.9.13 ('helios')",
   "language": "python",
   "name": "python3"
  },
  "language_info": {
   "codemirror_mode": {
    "name": "ipython",
    "version": 3
   },
   "file_extension": ".py",
   "mimetype": "text/x-python",
   "name": "python",
   "nbconvert_exporter": "python",
   "pygments_lexer": "ipython3",
   "version": "3.9.13"
  },
  "orig_nbformat": 4,
  "vscode": {
   "interpreter": {
    "hash": "bba63158daf8f0bfc206d0878743edfb4c6873c2fe9a093a4c8cb5a6f9843d61"
   }
  }
 },
 "nbformat": 4,
 "nbformat_minor": 2
}
