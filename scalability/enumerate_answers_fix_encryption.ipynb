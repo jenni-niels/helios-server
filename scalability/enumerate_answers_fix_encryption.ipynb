{
 "cells": [
  {
   "cell_type": "code",
   "execution_count": 6,
   "metadata": {},
   "outputs": [],
   "source": [
    "import sys\n",
    "sys.path.append(\"../../helios-server/\")\n",
    "import helios.models as models\n",
    "from helios_auth import models as auth_model\n",
    "import helios.views as views\n",
    "from helios.models import CastVote, Voter, Trustee\n",
    "from helios.workflows.homomorphic import EncryptedVote, Tally, EncryptedAnswer,DLogTable\n",
    "from helios.crypto import algs\n",
    "from election_utils import *\n",
    "from tqdm import tqdm, trange\n",
    "# import click\n",
    "import time\n",
    "import os\n",
    "import matplotlib.pyplot as plt\n",
    "import numpy as np\n",
    "from itertools import combinations\n",
    "import pickle"
   ]
  },
  {
   "cell_type": "code",
   "execution_count": 7,
   "metadata": {},
   "outputs": [],
   "source": [
    "# num_questions = 4\n",
    "num_choices = 4\n",
    "choices = [i for i in range(num_choices)]"
   ]
  },
  {
   "cell_type": "code",
   "execution_count": 8,
   "metadata": {},
   "outputs": [
    {
     "name": "stderr",
     "output_type": "stream",
     "text": [
      "100%|██████████| 5/5 [00:00<00:00, 60787.01it/s]\n"
     ]
    }
   ],
   "source": [
    "possible_answers = []\n",
    "for i in trange(num_choices+1):\n",
    "    possible_answers.extend([list(xs) for xs in combinations(choices, i)])"
   ]
  },
  {
   "cell_type": "code",
   "execution_count": null,
   "metadata": {},
   "outputs": [
    {
     "data": {
      "text/plain": [
       "[[],\n",
       " [0],\n",
       " [1],\n",
       " [2],\n",
       " [3],\n",
       " [0, 1],\n",
       " [0, 2],\n",
       " [0, 3],\n",
       " [1, 2],\n",
       " [1, 3],\n",
       " [2, 3],\n",
       " [0, 1, 2],\n",
       " [0, 1, 3],\n",
       " [0, 2, 3],\n",
       " [1, 2, 3],\n",
       " [0, 1, 2, 3]]"
      ]
     },
     "execution_count": 17,
     "metadata": {},
     "output_type": "execute_result"
    }
   ],
   "source": [
    "possible_answers"
   ]
  },
  {
   "cell_type": "code",
   "execution_count": 20,
   "metadata": {},
   "outputs": [],
   "source": [
    "election_keypair = pickle.load(open(\"election_keypair.p\", \"rb\"))"
   ]
  },
  {
   "cell_type": "code",
   "execution_count": 9,
   "metadata": {},
   "outputs": [],
   "source": [
    "keys = views.ELGAMAL_PARAMS.generate_keypair()"
   ]
  },
  {
   "cell_type": "code",
   "execution_count": 10,
   "metadata": {},
   "outputs": [],
   "source": [
    "pickle.dump(keys, open(\"EGkeypair.p\", \"wb\"))"
   ]
  },
  {
   "cell_type": "code",
   "execution_count": null,
   "metadata": {},
   "outputs": [],
   "source": []
  },
  {
   "cell_type": "code",
   "execution_count": 11,
   "metadata": {},
   "outputs": [],
   "source": [
    "keys = pickle.load(open(\"EGkeypair.p\", \"rb\"))"
   ]
  },
  {
   "cell_type": "code",
   "execution_count": 22,
   "metadata": {},
   "outputs": [],
   "source": [
    "# election_keypair[\"public_key\"]"
   ]
  },
  {
   "cell_type": "code",
   "execution_count": 12,
   "metadata": {},
   "outputs": [],
   "source": [
    "def fromElectionAndAnswer(choice_indicies, answer, pk, q_max, q_min=0):\n",
    "    \"\"\"\n",
    "    Given an election, a question number, and a list of answers to that question\n",
    "    in the form of an array of 0-based indexes into the answer array,\n",
    "    produce an EncryptedAnswer that works.\n",
    "    \"\"\"\n",
    "    \n",
    "    # initialize choices, individual proofs, randomness and overall proof\n",
    "    choices = [None for a in range(len(choice_indicies))]\n",
    "    individual_proofs = [None for a in range(len(choice_indicies))]\n",
    "    overall_proof = None\n",
    "    randomness = [None for a in range(len(choice_indicies))]\n",
    "    \n",
    "    # possible plaintexts [0, 1]\n",
    "    plaintexts = EncryptedAnswer.generate_plaintexts(pk)\n",
    "    \n",
    "    # keep track of number of options selected.\n",
    "    num_selected_answers = 0\n",
    "    \n",
    "    # homomorphic sum of all\n",
    "    homomorphic_sum = 0\n",
    "    randomness_sum = 0\n",
    "\n",
    "    # min and max for number of answers, useful later\n",
    "\n",
    "    min_answers = q_min\n",
    "    max_answers = q_max\n",
    "\n",
    "    # go through each possible answer and encrypt either a g^0 or a g^1.\n",
    "    for answer_num in range(len(choice_indicies)):\n",
    "      plaintext_index = 0\n",
    "      \n",
    "      # assuming a list of answers\n",
    "      if answer_num in answer:\n",
    "        plaintext_index = 1\n",
    "        num_selected_answers += 1\n",
    "\n",
    "      # randomness and encryption\n",
    "      randomness[answer_num] = algs.random.mpz_lt(pk.q)\n",
    "      choices[answer_num] = pk.encrypt_with_r(plaintexts[plaintext_index], randomness[answer_num])\n",
    "      \n",
    "      # generate proof\n",
    "      individual_proofs[answer_num] = choices[answer_num].generate_disjunctive_encryption_proof(plaintexts, plaintext_index, \n",
    "                                                randomness[answer_num], algs.EG_disjunctive_challenge_generator)\n",
    "                                                \n",
    "      # sum things up homomorphically if needed\n",
    "      if max_answers is not None:\n",
    "        homomorphic_sum = choices[answer_num] * homomorphic_sum\n",
    "        randomness_sum = (randomness_sum + randomness[answer_num]) % pk.q\n",
    "\n",
    "    # prove that the sum is 0 or 1 (can be \"blank vote\" for this answer)\n",
    "    # num_selected_answers is 0 or 1, which is the index into the plaintext that is actually encoded\n",
    "    \n",
    "    if num_selected_answers < min_answers:\n",
    "      raise Exception(\"Need to select at least %s answer(s)\" % min_answers)\n",
    "    \n",
    "    if max_answers is not None:\n",
    "      sum_plaintexts = EncryptedAnswer.generate_plaintexts(pk, min=min_answers, max=max_answers)\n",
    "    \n",
    "      # need to subtract the min from the offset\n",
    "      overall_proof = homomorphic_sum.generate_disjunctive_encryption_proof(sum_plaintexts, num_selected_answers - min_answers, randomness_sum, algs.EG_disjunctive_challenge_generator);\n",
    "    else:\n",
    "      # approval voting\n",
    "      overall_proof = None\n",
    "    \n",
    "    return EncryptedAnswer(choices, individual_proofs, overall_proof, randomness, answer)"
   ]
  },
  {
   "cell_type": "code",
   "execution_count": 13,
   "metadata": {},
   "outputs": [
    {
     "name": "stdout",
     "output_type": "stream",
     "text": [
      "Enumerating possible answers with 4 choices\n"
     ]
    },
    {
     "name": "stderr",
     "output_type": "stream",
     "text": [
      "100%|██████████| 5/5 [00:00<00:00, 64329.82it/s]\n"
     ]
    },
    {
     "name": "stdout",
     "output_type": "stream",
     "text": [
      "Generating encyptions\n"
     ]
    },
    {
     "name": "stderr",
     "output_type": "stream",
     "text": [
      "100%|██████████| 16/16 [00:03<00:00,  4.21it/s]\n"
     ]
    }
   ],
   "source": [
    "# for num_choices in range(1, 4):\n",
    "choices = [i for i in range(num_choices)]\n",
    "print(f\"Enumerating possible answers with {num_choices} choices\")\n",
    "possible_answers = []\n",
    "for i in trange(num_choices+1):\n",
    "    possible_answers.extend([list(xs) for xs in combinations(choices, i)])\n",
    "\n",
    "print(f\"Generating encyptions\")\n",
    "encrypted_answers = [fromElectionAndAnswer(choices, answer, keys.pk, num_choices) for answer in tqdm(possible_answers)]\n",
    "# np.save(f\"encrypted_answers/all_answers_with_{num_choices}_choices.npy\", encypted_answers,  allow_pickle=True)"
   ]
  },
  {
   "cell_type": "code",
   "execution_count": 27,
   "metadata": {},
   "outputs": [
    {
     "data": {
      "text/plain": [
       "[1, 2, 3, 4]"
      ]
     },
     "execution_count": 27,
     "metadata": {},
     "output_type": "execute_result"
    }
   ],
   "source": [
    "list(range(1, 5))"
   ]
  },
  {
   "cell_type": "code",
   "execution_count": 20,
   "metadata": {},
   "outputs": [],
   "source": [
    "xs = np.load(f\"encrypted_answers/all_answers_with_{num_choices}_choices.npy\",  allow_pickle=True)"
   ]
  },
  {
   "cell_type": "code",
   "execution_count": 55,
   "metadata": {},
   "outputs": [
    {
     "data": {
      "text/plain": [
       "[0, 1, 2]"
      ]
     },
     "execution_count": 55,
     "metadata": {},
     "output_type": "execute_result"
    }
   ],
   "source": [
    "encrypted_answers[-1].answer"
   ]
  },
  {
   "cell_type": "code",
   "execution_count": 56,
   "metadata": {},
   "outputs": [
    {
     "data": {
      "text/plain": [
       "[<helios.workflows.homomorphic.EncryptedAnswer at 0x7f03437d0f70>]"
      ]
     },
     "execution_count": 56,
     "metadata": {},
     "output_type": "execute_result"
    }
   ],
   "source": [
    "[encrypted_answers[-1]]"
   ]
  },
  {
   "cell_type": "code",
   "execution_count": 57,
   "metadata": {},
   "outputs": [
    {
     "data": {
      "text/plain": [
       "14887492224963187634282421537186040801304008017743492304481737382571933937568724473847106029915040150784031882206090286938661464458896494215273989547889201144857352611058572236578734319505128042602372864570426550855201448111746579871811249114781674309062693442442368697449970648232621880001709535143047913661432883287150003429802392229361583608686643243349727791976247247948618930423866180410558458272606627111270040091203073580238905303994472202930783207472394578498507764703191288249547659899997131166130259700604433891232298182348403175947450284433411265966789131024573629546048637848902243503970966798589660808533"
      ]
     },
     "execution_count": 57,
     "metadata": {},
     "output_type": "execute_result"
    }
   ],
   "source": [
    "keys.sk.decrypt(encrypted_answers[-1].choices[0]).m"
   ]
  },
  {
   "cell_type": "code",
   "execution_count": 46,
   "metadata": {},
   "outputs": [
    {
     "data": {
      "text/plain": [
       "{0: {'answers': range(0, 3)}, 1: {'answers': range(0, 3)}}"
      ]
     },
     "execution_count": 46,
     "metadata": {},
     "output_type": "execute_result"
    }
   ],
   "source": []
  },
  {
   "cell_type": "code",
   "execution_count": 60,
   "metadata": {},
   "outputs": [
    {
     "data": {
      "text/plain": [
       "array([<helios.workflows.homomorphic.EncryptedAnswer object at 0x7f03437bce20>,\n",
       "       <helios.workflows.homomorphic.EncryptedAnswer object at 0x7f03437c40d0>,\n",
       "       <helios.workflows.homomorphic.EncryptedAnswer object at 0x7f03437c8bb0>],\n",
       "      dtype=object)"
      ]
     },
     "execution_count": 60,
     "metadata": {},
     "output_type": "execute_result"
    }
   ],
   "source": [
    "np.random.choice(encrypted_answers, 3)"
   ]
  },
  {
   "cell_type": "code",
   "execution_count": 14,
   "metadata": {},
   "outputs": [],
   "source": [
    "def decrypt_and_prove(tally, sk):\n",
    "    \"\"\"\n",
    "    returns an array of tallies and a corresponding array of decryption proofs.\n",
    "    \"\"\"\n",
    "    dlog_table = DLogTable(base = tally.public_key.g, modulus = tally.public_key.p)\n",
    "    dlog_table.precompute(tally.num_tallied)\n",
    "\n",
    "        \n",
    "    # for all choices of all questions (double list comprehension)\n",
    "    decrypted_tally = []\n",
    "    decryption_proof = []\n",
    "\n",
    "    for question_num in range(len(tally.questions)):\n",
    "        question = tally.questions[question_num]\n",
    "        answers = question['answers']\n",
    "        question_tally = []\n",
    "        question_proof = []\n",
    "\n",
    "        for answer_num in range(len(answers)):\n",
    "            # do decryption and proof of it\n",
    "            plaintext, proof = sk.prove_decryption(tally.tally[question_num][answer_num])\n",
    "\n",
    "            # look up appropriate discrete log\n",
    "            question_tally.append(dlog_table.lookup(plaintext))\n",
    "            question_proof.append(proof)\n",
    "        \n",
    "        decrypted_tally.append(question_tally)\n",
    "        decryption_proof.append(question_proof)\n",
    "\n",
    "    return decrypted_tally, decryption_proof"
   ]
  },
  {
   "cell_type": "code",
   "execution_count": 15,
   "metadata": {},
   "outputs": [
    {
     "ename": "NameError",
     "evalue": "name 'tally' is not defined",
     "output_type": "error",
     "traceback": [
      "\u001b[0;31m---------------------------------------------------------------------------\u001b[0m",
      "\u001b[0;31mNameError\u001b[0m                                 Traceback (most recent call last)",
      "\u001b[1;32m/home/jnmatthews/Research/dev/helios/helios-server/scalability/enumerate_answers_fix_encryption.ipynb Cell 21\u001b[0m in \u001b[0;36m<cell line: 1>\u001b[0;34m()\u001b[0m\n\u001b[0;32m----> <a href='vscode-notebook-cell://ssh-remote%2B7b22686f73744e616d65223a22554368696361676f5f43535f6c696e7578227d/home/jnmatthews/Research/dev/helios/helios-server/scalability/enumerate_answers_fix_encryption.ipynb#X24sdnNjb2RlLXJlbW90ZQ%3D%3D?line=0'>1</a>\u001b[0m tally\u001b[39m.\u001b[39mnum_tallied\n",
      "\u001b[0;31mNameError\u001b[0m: name 'tally' is not defined"
     ]
    }
   ],
   "source": [
    "tally.num_tallied"
   ]
  },
  {
   "cell_type": "code",
   "execution_count": 16,
   "metadata": {},
   "outputs": [
    {
     "name": "stdout",
     "output_type": "stream",
     "text": [
      "bad number of proofs (expected 2, found 5)\n"
     ]
    },
    {
     "data": {
      "text/plain": [
       "False"
      ]
     },
     "execution_count": 16,
     "metadata": {},
     "output_type": "execute_result"
    }
   ],
   "source": [
    "encrypted_answers[0].verify(keys.pk)"
   ]
  },
  {
   "cell_type": "code",
   "execution_count": 17,
   "metadata": {},
   "outputs": [],
   "source": [
    "tally = Tally()\n",
    "vote = EncryptedVote()\n",
    "vote.encrypted_answers = np.random.choice(encrypted_answers, 3) #EncryptedVote.fromElectionAndAnswers(election, answers)\n",
    "\n",
    "tally.questions = {q: {\"answers\": range(num_choices)} for q in range(3)}\n",
    "tally.public_key = keys.pk\n",
    "tally.tally = [[0 for choice in range(num_choices)] for question in tally.questions]\n",
    "\n",
    "tally.add_vote(vote, verify_p=False)\n",
    "tally.add_vote(vote, verify_p=False)\n",
    "\n",
    "\n",
    "result = decrypt_and_prove(tally, keys.sk)\n",
    "\n",
    "# stops = [10**i for i in range(1, 7)]\n",
    "# votes = []\n",
    "# times = []\n",
    "\n",
    "# for i in trange(1, stops[-1]+1):\n",
    "#     tally.add_vote(vote, verify_p=False)\n",
    "#     if i in stops:\n",
    "#         election.encrypted_tally = tally\n",
    "#         election.helios_trustee_decrypt()\n",
    "#         trustees = Trustee.get_by_election(election)\n",
    "#         decryption_factors = [t.decryption_factors for t in trustees]\n",
    "\n",
    "#         tic = time.perf_counter()\n",
    "#         result = tally.decrypt_from_factors(decryption_factors, election.public_key)\n",
    "\n",
    "#         toc = time.perf_counter()\n",
    "#         decrypt_time = toc - tic\n",
    "#         print(f\"#Votes: {i}, Tally-Time: {decrypt_time}\")\n",
    "#         votes.append(i)\n",
    "#         times.append(decrypt_time)\n",
    "#         # print(result)"
   ]
  },
  {
   "cell_type": "code",
   "execution_count": 18,
   "metadata": {},
   "outputs": [
    {
     "data": {
      "text/plain": [
       "[[0, 0, 2, 0], [2, 0, 2, 0], [0, 2, 2, 2]]"
      ]
     },
     "execution_count": 18,
     "metadata": {},
     "output_type": "execute_result"
    }
   ],
   "source": [
    "result[0]"
   ]
  },
  {
   "cell_type": "code",
   "execution_count": 19,
   "metadata": {},
   "outputs": [
    {
     "data": {
      "text/plain": [
       "([2], [0, 2], [1, 2, 3])"
      ]
     },
     "execution_count": 19,
     "metadata": {},
     "output_type": "execute_result"
    }
   ],
   "source": [
    "vote.encrypted_answers[0].answer, vote.encrypted_answers[1].answer, vote.encrypted_answers[2].answer"
   ]
  },
  {
   "cell_type": "code",
   "execution_count": null,
   "metadata": {},
   "outputs": [],
   "source": []
  },
  {
   "cell_type": "code",
   "execution_count": 82,
   "metadata": {},
   "outputs": [
    {
     "data": {
      "text/plain": [
       "[0, 1]"
      ]
     },
     "execution_count": 82,
     "metadata": {},
     "output_type": "execute_result"
    }
   ],
   "source": [
    "vote2[1].answer"
   ]
  },
  {
   "cell_type": "code",
   "execution_count": null,
   "metadata": {},
   "outputs": [],
   "source": []
  }
 ],
 "metadata": {
  "kernelspec": {
   "display_name": "Python 3.9.13 ('helios')",
   "language": "python",
   "name": "python3"
  },
  "language_info": {
   "codemirror_mode": {
    "name": "ipython",
    "version": 3
   },
   "file_extension": ".py",
   "mimetype": "text/x-python",
   "name": "python",
   "nbconvert_exporter": "python",
   "pygments_lexer": "ipython3",
   "version": "3.9.13"
  },
  "orig_nbformat": 4,
  "vscode": {
   "interpreter": {
    "hash": "bba63158daf8f0bfc206d0878743edfb4c6873c2fe9a093a4c8cb5a6f9843d61"
   }
  }
 },
 "nbformat": 4,
 "nbformat_minor": 2
}
