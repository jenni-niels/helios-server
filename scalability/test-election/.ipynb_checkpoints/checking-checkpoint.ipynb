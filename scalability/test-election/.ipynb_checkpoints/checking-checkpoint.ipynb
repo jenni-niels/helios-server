{
 "cells": [
  {
   "cell_type": "code",
   "execution_count": 25,
   "id": "bfff5658-cf7e-436f-a790-22edb2545876",
   "metadata": {},
   "outputs": [],
   "source": [
    "import json"
   ]
  },
  {
   "cell_type": "code",
   "execution_count": 81,
   "id": "8a2e6ab1-1a10-454d-bc75-876fb88e88f4",
   "metadata": {},
   "outputs": [],
   "source": [
    "with open (\"election_fingerprint.txt\", \"r\") as f:\n",
    "    fingerprint = f.readlines()[0].replace('\\n', '')\n",
    "f.close()\n",
    "with open (\"hashed_commitment.txt\", \"r\") as f:\n",
    "    hashed_commitment = f.readlines()[0]\n",
    "f.close()\n",
    "with open (\"audit_info.txt\", \"r\") as f:\n",
    "    audit_info = json.loads(f.readlines()[0])\n",
    "f.close()\n",
    "\n",
    "with open (\"election_fingerprint_sealed.txt\", \"r\") as f:\n",
    "    fingerprint_sealed = f.readlines()[0].replace('\\n', '')\n",
    "f.close()\n",
    "with open (\"hashed_commitment_sealed.txt\", \"r\") as f:\n",
    "    hashed_commitment_sealed = f.readlines()[0]\n",
    "f.close()\n",
    "with open (\"full_encrypted_sealed_ballot.txt\", \"r\") as f:\n",
    "    encrypted_ballot = json.loads(f.readlines()[0])\n",
    "f.close()"
   ]
  },
  {
   "cell_type": "code",
   "execution_count": 82,
   "id": "886a9034-c7fa-44e2-af4c-6062b513d39e",
   "metadata": {},
   "outputs": [
    {
     "data": {
      "text/plain": [
       "False"
      ]
     },
     "execution_count": 82,
     "metadata": {},
     "output_type": "execute_result"
    }
   ],
   "source": [
    "hashed_commitment == hashed_commitment_sealed"
   ]
  },
  {
   "cell_type": "code",
   "execution_count": 83,
   "id": "885ce6a2-80d1-4fca-a8ed-2c513d975b30",
   "metadata": {},
   "outputs": [
    {
     "data": {
      "text/plain": [
       "True"
      ]
     },
     "execution_count": 83,
     "metadata": {},
     "output_type": "execute_result"
    }
   ],
   "source": [
    "fingerprint == fingerprint_sealed"
   ]
  },
  {
   "cell_type": "code",
   "execution_count": 84,
   "id": "6600fde0-2abe-4f4d-85e8-db3e3fe28d47",
   "metadata": {},
   "outputs": [
    {
     "data": {
      "text/plain": [
       "False"
      ]
     },
     "execution_count": 84,
     "metadata": {},
     "output_type": "execute_result"
    }
   ],
   "source": [
    "encrypted_ballot == audit_info"
   ]
  },
  {
   "cell_type": "code",
   "execution_count": 72,
   "id": "62967318-6bed-4d41-a389-bbea72eb33fd",
   "metadata": {
    "tags": []
   },
   "outputs": [
    {
     "data": {
      "text/plain": [
       "dict_keys(['choices', 'individual_proofs', 'overall_proof', 'answer', 'randomness'])"
      ]
     },
     "execution_count": 72,
     "metadata": {},
     "output_type": "execute_result"
    }
   ],
   "source": [
    "audit_info['answers'][0].keys()"
   ]
  },
  {
   "cell_type": "code",
   "execution_count": 73,
   "id": "7b109606-4ab2-4558-b830-88d9191149fa",
   "metadata": {},
   "outputs": [
    {
     "data": {
      "text/plain": [
       "dict_keys(['choices', 'individual_proofs', 'overall_proof'])"
      ]
     },
     "execution_count": 73,
     "metadata": {},
     "output_type": "execute_result"
    }
   ],
   "source": [
    "encrypted_ballot['answers'][0].keys()"
   ]
  },
  {
   "cell_type": "code",
   "execution_count": 86,
   "id": "abe08c1f-2eea-4e7a-a838-a1a845425510",
   "metadata": {},
   "outputs": [
    {
     "data": {
      "text/plain": [
       "True"
      ]
     },
     "execution_count": 86,
     "metadata": {},
     "output_type": "execute_result"
    }
   ],
   "source": [
    "audit_info['election_hash'] == fingerprint"
   ]
  },
  {
   "cell_type": "code",
   "execution_count": 44,
   "id": "d7a911d9-698a-479c-a7d7-780d0119bf66",
   "metadata": {},
   "outputs": [
    {
     "data": {
      "text/plain": [
       "'c8de42bc-5182-11ed-98ec-ceb9e340881a'"
      ]
     },
     "execution_count": 44,
     "metadata": {},
     "output_type": "execute_result"
    }
   ],
   "source": [
    "audit_info['election_uuid']"
   ]
  },
  {
   "cell_type": "code",
   "execution_count": null,
   "id": "6ebd34b9-96a1-443e-b21d-bcc6bae12bee",
   "metadata": {},
   "outputs": [
    {
     "data": {
      "text/plain": [
       "dict_keys(['choices', 'individual_proofs', 'overall_proof', 'answer', 'randomness'])"
      ]
     },
     "execution_count": 48,
     "metadata": {},
     "output_type": "execute_result"
    }
   ],
   "source": [
    "audit_info['answers'][0].keys()"
   ]
  },
  {
   "cell_type": "code",
   "execution_count": 52,
   "id": "c1b7c20e-a733-43c6-9e1f-9b6fb36845d6",
   "metadata": {},
   "outputs": [
    {
     "data": {
      "text/plain": [
       "{'alpha': '3122487443136473733749638631145386033490802126366284885222736684899506756885389748567428440556767516010985102052017035303028758832457628342226319961960469487313847034112252231035264259779162381129119014411322718193928846539211677261765300960308387108114773513820954584793628720446214570325374705637210413907221251373689087744747211509356943899828900678772610120006503011090256036130594463659491129722684691040956915394069507609807774896119307663529605694703864686065682025879277751691080964602679693296431595144517975760685100747365744475504929993187942882239691642563730347238218584998836624342479798650096933473182',\n",
       " 'beta': '678388104653966832807822795261751607839838828298220078565676495193199080637080259679766240024657435920159887039684960903975039441817115103551898719571706625113418586800315664100944266469479241480553431517178282290885746318094704985016954522131721669778307565168570592940934592268923837531278263495618120234578021265763987298847989406228717984382891364000111745966198426781484286839264318490147724976750513455532787449110285410494078537933633057522860218104454560838179771519260172034013147518919355027435413642254571547137636632256379970052720475416387688051236955128912920378540728624742528201893976488756480524210'}"
      ]
     },
     "execution_count": 52,
     "metadata": {},
     "output_type": "execute_result"
    }
   ],
   "source": [
    "audit_info['answers'][0]['choices'][0]"
   ]
  },
  {
   "cell_type": "code",
   "execution_count": 58,
   "id": "67847c32-7793-4f0b-8b3c-84329e767c21",
   "metadata": {},
   "outputs": [
    {
     "data": {
      "text/plain": [
       "{'challenge': '59963680278279592769700116640811355103542056007499085336698085894170548164917',\n",
       " 'commitment': {'A': '845146185710872460902443328382075391986377094953993315377022114239558984287470897366698451498449387601350406703676276553561830169220483744999014049899547533625969456962864895206993501800266261529836967810574278439927148265880046428302103512849129861838268230215010020360412493065277146575063447405351322358470855179818604647337819703460917054752213848920658988793600641789305613408750143390946652944489105858254257687156509661335608050096105340261855629873645005876531313296051551585727397803805351823181304432908504564332364698072076928051802980554648974251251386496038221416457772824339258011915029982196601387586',\n",
       "  'B': '8268603339648125401641216393230339575903408734306960344792391003672191246528262954429525178676034659541605583373861462419617850271964698693646376705596735014088384262052644496094244402581892694395997055638957427371485823634435479314639877643587147426121027884921464881010605404525041559043081192360333679162523746847168041380042750465608338233564334187915462364614740407716855278469485562624785116247217431120479802922748787323324661729963341104364335095923026765788251180711183308865002544003038631296283447762204525678754727400064187516784876538526405074399582266700947102209303543585204465758816433029831620391250'},\n",
       " 'response': '56556492643311627421808008798604205068529815579128468365446909203824087032890'}"
      ]
     },
     "execution_count": 58,
     "metadata": {},
     "output_type": "execute_result"
    }
   ],
   "source": [
    "audit_info['answers'][0]['individual_proofs'][0][0]"
   ]
  },
  {
   "cell_type": "code",
   "execution_count": 60,
   "id": "b38a686a-f8e4-483d-a337-21ae552a35ec",
   "metadata": {},
   "outputs": [
    {
     "data": {
      "text/plain": [
       "{'challenge': '56097465562216611369116719204556954689209095147130902413549803730061942770410',\n",
       " 'commitment': {'A': '4776065627270650895012213848830094725017514158482343452199381212592258988238812067050761845801972887639785897817364342596971381432485686517678703910390171470715268428423171383494350836905477270659160852177974121519952377225325595211334918437073354541830924663946009856998324473369681301709394813561109047300440234543076466622783804872493031910183382035920240490773366646779969573304932584423629982902376960757810499351466159227597534388842013665481699998856803893129294700624401481056122197767520311730912752687335171036427290589814506869263957207666100624012038919159522348046727108687909936759015025576087587868460',\n",
       "  'B': '2368744422761772122535575640638937456984609454389923103204521568961034959276297112969925059395043367226154924427848996284081523569305616878964571959174185014771991861762916333741013024159036461880185171598542165195303684000794087168870097958018277019503297678517033504865066126464532489628016552243304744276293904081148517195292128701946337690797132497872577363808640259252183978709933372083085972104473616401458657956966205618244374590660221113863579993617909597598237724095884383057374736793017153267241070321426289077928269689997880831433302237878057433999249445485282610744308634668915447514672654987232251883117'},\n",
       " 'response': '45163425895611673035202585974074811862717491813137494503556274685689348784974'}"
      ]
     },
     "execution_count": 60,
     "metadata": {},
     "output_type": "execute_result"
    }
   ],
   "source": [
    "audit_info['answers'][0]['overall_proof'][0]"
   ]
  },
  {
   "cell_type": "code",
   "execution_count": 61,
   "id": "1256e436-9936-44db-99fd-cf23f6fc712e",
   "metadata": {},
   "outputs": [
    {
     "data": {
      "text/plain": [
       "[0]"
      ]
     },
     "execution_count": 61,
     "metadata": {},
     "output_type": "execute_result"
    }
   ],
   "source": [
    "audit_info['answers'][0]['answer']"
   ]
  },
  {
   "cell_type": "code",
   "execution_count": 62,
   "id": "8989772d-b4d4-424b-8a12-aa3e4d1c617a",
   "metadata": {},
   "outputs": [
    {
     "data": {
      "text/plain": [
       "['21894243828263934136958338797732979603815466353818295987938693086895283416275',\n",
       " '54016262046003412566340934991497900493396688870850108079416571641157467838971',\n",
       " '2144508776181179900411147021289380063942735780623817135299060990853885197622']"
      ]
     },
     "execution_count": 62,
     "metadata": {},
     "output_type": "execute_result"
    }
   ],
   "source": [
    "audit_info['answers'][0]['randomness']"
   ]
  }
 ],
 "metadata": {
  "kernelspec": {
   "display_name": "Python 3 (ipykernel)",
   "language": "python",
   "name": "python3"
  },
  "language_info": {
   "codemirror_mode": {
    "name": "ipython",
    "version": 3
   },
   "file_extension": ".py",
   "mimetype": "text/x-python",
   "name": "python",
   "nbconvert_exporter": "python",
   "pygments_lexer": "ipython3",
   "version": "3.9.6"
  }
 },
 "nbformat": 4,
 "nbformat_minor": 5
}
