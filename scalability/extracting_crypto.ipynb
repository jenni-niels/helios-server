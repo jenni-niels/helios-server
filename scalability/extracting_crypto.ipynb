{
 "cells": [
  {
   "cell_type": "code",
   "execution_count": 1,
   "id": "5409b87e-0527-4949-aefb-cfa6ebe07dcc",
   "metadata": {},
   "outputs": [],
   "source": [
    "import sys\n",
    "sys.path.append(\"helios-server/\")\n",
    "import helios.models as models\n",
    "import helios.views as views\n",
    "from helios_auth import models as auth_models\n",
    "from helios.models import Election, CastVote, Voter, Trustee\n",
    "from helios.workflows.homomorphic import EncryptedAnswer, EncryptedVote, Tally\n",
    "import json\n",
    "import uuid"
   ]
  },
  {
   "cell_type": "code",
   "execution_count": 2,
   "id": "14dfb5a1-811b-4c36-8772-5043f6cd12d8",
   "metadata": {},
   "outputs": [],
   "source": [
    "user = auth_models.User.objects.get(user_id='ben@adida.net', user_type='google')"
   ]
  },
  {
   "cell_type": "code",
   "execution_count": 3,
   "id": "d581245b-6a43-4756-9d97-a9d65feca930",
   "metadata": {
    "tags": []
   },
   "outputs": [
    {
     "name": "stdout",
     "output_type": "stream",
     "text": [
      "2022-10-27 11:27:28.679897\n"
     ]
    }
   ],
   "source": [
    "election, _ = models.Election.get_or_create( # doesn't recreate it if these specs already exist in some election, I think\n",
    "                                short_name='my_test',\n",
    "                                name='My Test',\n",
    "                                description='Please let this work....',\n",
    "                                admin=user,\n",
    "                                # questions=questions,\n",
    "                                )\n",
    "print(election.created_at)"
   ]
  },
  {
   "cell_type": "code",
   "execution_count": 4,
   "id": "b35fc75b-05a6-41d1-a998-a4a907514009",
   "metadata": {},
   "outputs": [
    {
     "name": "stdout",
     "output_type": "stream",
     "text": [
      "1\n"
     ]
    }
   ],
   "source": [
    "print(election.num_voters)"
   ]
  },
  {
   "cell_type": "code",
   "execution_count": 5,
   "id": "3220ebd2-b2df-440f-a3f6-180351d60658",
   "metadata": {},
   "outputs": [
    {
     "name": "stdout",
     "output_type": "stream",
     "text": [
      "1\n"
     ]
    }
   ],
   "source": [
    "# voter = models.Voter.register_user_in_election(user, election) # if you do this multiple times the user will be a voter multiple times...\n",
    "print(election.num_voters)"
   ]
  },
  {
   "cell_type": "code",
   "execution_count": 6,
   "id": "98e2ce2d-1771-4f32-8911-28376188ba07",
   "metadata": {},
   "outputs": [
    {
     "name": "stdout",
     "output_type": "stream",
     "text": [
      "1\n"
     ]
    }
   ],
   "source": [
    "print(election.num_trustees)"
   ]
  },
  {
   "cell_type": "code",
   "execution_count": 88,
   "id": "03ea159f-3d8d-429c-8735-6d69f1671ede",
   "metadata": {},
   "outputs": [
    {
     "name": "stdout",
     "output_type": "stream",
     "text": [
      "1\n"
     ]
    }
   ],
   "source": [
    "# election.generate_trustee(views.ELGAMAL_PARAMS) # only needs to be done once per Election creation\n",
    "print(election.num_trustees)"
   ]
  },
  {
   "cell_type": "code",
   "execution_count": 8,
   "id": "82aaff90-e47c-4ed8-8e28-c7be63c65205",
   "metadata": {
    "collapsed": true,
    "jupyter": {
     "outputs_hidden": true
    },
    "tags": []
   },
   "outputs": [
    {
     "data": {
      "text/plain": [
       "['DoesNotExist',\n",
       " 'ELECTION_TYPES',\n",
       " 'Meta',\n",
       " 'MultipleObjectsReturned',\n",
       " '__class__',\n",
       " '__delattr__',\n",
       " '__dict__',\n",
       " '__dir__',\n",
       " '__doc__',\n",
       " '__eq__',\n",
       " '__format__',\n",
       " '__ge__',\n",
       " '__getattribute__',\n",
       " '__getstate__',\n",
       " '__gt__',\n",
       " '__hash__',\n",
       " '__init__',\n",
       " '__init_subclass__',\n",
       " '__le__',\n",
       " '__lt__',\n",
       " '__module__',\n",
       " '__ne__',\n",
       " '__new__',\n",
       " '__reduce__',\n",
       " '__reduce_ex__',\n",
       " '__repr__',\n",
       " '__setattr__',\n",
       " '__setstate__',\n",
       " '__sizeof__',\n",
       " '__str__',\n",
       " '__subclasshook__',\n",
       " '__weakref__',\n",
       " '_check_column_name_clashes',\n",
       " '_check_constraints',\n",
       " '_check_field_name_clashes',\n",
       " '_check_fields',\n",
       " '_check_id_field',\n",
       " '_check_index_together',\n",
       " '_check_indexes',\n",
       " '_check_local_fields',\n",
       " '_check_long_column_names',\n",
       " '_check_m2m_through_same_relationship',\n",
       " '_check_managers',\n",
       " '_check_model',\n",
       " '_check_model_name_db_lookup_clashes',\n",
       " '_check_ordering',\n",
       " '_check_property_name_related_field_accessor_clashes',\n",
       " '_check_single_primary_key',\n",
       " '_check_swappable',\n",
       " '_check_unique_together',\n",
       " '_do_insert',\n",
       " '_do_update',\n",
       " '_get_FIELD_display',\n",
       " '_get_next_or_previous_by_FIELD',\n",
       " '_get_next_or_previous_in_order',\n",
       " '_get_pk_val',\n",
       " '_get_unique_checks',\n",
       " '_meta',\n",
       " '_perform_date_checks',\n",
       " '_perform_unique_checks',\n",
       " '_save_parents',\n",
       " '_save_table',\n",
       " '_set_pk_val',\n",
       " '_state',\n",
       " 'add_voters_file',\n",
       " 'admin',\n",
       " 'admin_id',\n",
       " 'append_log',\n",
       " 'archived_at',\n",
       " 'auditedballot_set',\n",
       " 'cast_url',\n",
       " 'check',\n",
       " 'clean',\n",
       " 'clean_fields',\n",
       " 'combine_decryptions',\n",
       " 'complaint_period_ends_at',\n",
       " 'compute_tally',\n",
       " 'created_at',\n",
       " 'datatype',\n",
       " 'date_error_message',\n",
       " 'delete',\n",
       " 'description',\n",
       " 'description_bleached',\n",
       " 'election_info_url',\n",
       " 'election_type',\n",
       " 'electionlog_set',\n",
       " 'eligibility',\n",
       " 'eligibility_category_id',\n",
       " 'eligibility_constraint_for',\n",
       " 'encrypted_tally',\n",
       " 'encrypted_tally_hash',\n",
       " 'featured_p',\n",
       " 'freeze',\n",
       " 'from_db',\n",
       " 'frozen_at',\n",
       " 'full_clean',\n",
       " 'generate_trustee',\n",
       " 'generate_voters_hash',\n",
       " 'get_by_short_name',\n",
       " 'get_by_user_as_admin',\n",
       " 'get_by_user_as_voter',\n",
       " 'get_by_uuid',\n",
       " 'get_deferred_fields',\n",
       " 'get_election_type_display',\n",
       " 'get_featured',\n",
       " 'get_helios_trustee',\n",
       " 'get_log',\n",
       " 'get_next_by_created_at',\n",
       " 'get_next_by_modified_at',\n",
       " 'get_or_create',\n",
       " 'get_previous_by_created_at',\n",
       " 'get_previous_by_modified_at',\n",
       " 'has_helios_trustee',\n",
       " 'hash',\n",
       " 'helios_trustee_decrypt',\n",
       " 'help_email',\n",
       " 'id',\n",
       " 'increment_cast_votes',\n",
       " 'increment_voters',\n",
       " 'init_tally',\n",
       " 'is_archived',\n",
       " 'issues_before_freeze',\n",
       " 'last_alias_num',\n",
       " 'ld_object',\n",
       " 'metadata',\n",
       " 'modified_at',\n",
       " 'name',\n",
       " 'num_cast_votes',\n",
       " 'num_trustees',\n",
       " 'num_voters',\n",
       " 'objects',\n",
       " 'one_question_winner',\n",
       " 'openreg',\n",
       " 'pk',\n",
       " 'prepare_database_save',\n",
       " 'pretty_eligibility',\n",
       " 'pretty_result',\n",
       " 'pretty_type',\n",
       " 'private_key',\n",
       " 'private_p',\n",
       " 'public_key',\n",
       " 'questions',\n",
       " 'randomize_answer_order',\n",
       " 'ready_for_decryption',\n",
       " 'ready_for_decryption_combination',\n",
       " 'ready_for_tallying',\n",
       " 'refresh_from_db',\n",
       " 'registration_starts_at',\n",
       " 'registration_status_pretty',\n",
       " 'release_result',\n",
       " 'result',\n",
       " 'result_proof',\n",
       " 'result_released_at',\n",
       " 'save',\n",
       " 'save_base',\n",
       " 'save_questions_safely',\n",
       " 'serializable_value',\n",
       " 'set_eligibility',\n",
       " 'short_name',\n",
       " 'tallies_combined_at',\n",
       " 'tallying_finished_at',\n",
       " 'tallying_started_at',\n",
       " 'tallying_starts_at',\n",
       " 'toJSON',\n",
       " 'toJSONDict',\n",
       " 'trustee_set',\n",
       " 'unique_error_message',\n",
       " 'url',\n",
       " 'use_advanced_audit_features',\n",
       " 'use_voter_aliases',\n",
       " 'user_eligible_p',\n",
       " 'uuid',\n",
       " 'validate_unique',\n",
       " 'voter_set',\n",
       " 'voterfile_set',\n",
       " 'voters_hash',\n",
       " 'voting_end_at',\n",
       " 'voting_ended_at',\n",
       " 'voting_ends_at',\n",
       " 'voting_extended_until',\n",
       " 'voting_has_started',\n",
       " 'voting_has_stopped',\n",
       " 'voting_start_at',\n",
       " 'voting_started_at',\n",
       " 'voting_starts_at',\n",
       " 'winners']"
      ]
     },
     "execution_count": 8,
     "metadata": {},
     "output_type": "execute_result"
    }
   ],
   "source": [
    "dir(election)"
   ]
  },
  {
   "cell_type": "code",
   "execution_count": 9,
   "id": "ea5fb831-1f64-4dfd-aae0-698c722b5d21",
   "metadata": {},
   "outputs": [
    {
     "data": {
      "text/plain": [
       "'Closed'"
      ]
     },
     "execution_count": 9,
     "metadata": {},
     "output_type": "execute_result"
    }
   ],
   "source": [
    "election.registration_status_pretty"
   ]
  },
  {
   "cell_type": "code",
   "execution_count": 11,
   "id": "79df1989-e1c6-4659-abc7-c7902418753d",
   "metadata": {},
   "outputs": [
    {
     "data": {
      "text/plain": [
       "True"
      ]
     },
     "execution_count": 11,
     "metadata": {},
     "output_type": "execute_result"
    }
   ],
   "source": [
    "questions = [{\"answer_urls\":[None, None, None],\n",
    "              \"answers\": [\"A\", \"B\", \"C\"],\n",
    "              \"choice_type\": \"approval\",\n",
    "              \"max\": 1,\n",
    "              \"min\": 1,\n",
    "              \"question\": \"A, B, or C?\",\n",
    "              \"result_type\": \"absolute\",\n",
    "              \"short_name\": \"W?\",\n",
    "              \"tally_type\": \"homomorphic\",\n",
    "             }]\n",
    "\n",
    "election.save_questions_safely(questions)"
   ]
  },
  {
   "cell_type": "code",
   "execution_count": 7,
   "id": "357314f5-3e2e-405c-b556-0d2e24fd1124",
   "metadata": {},
   "outputs": [
    {
     "data": {
      "text/plain": [
       "[{'answer_urls': [None, None, None],\n",
       "  'answers': ['A', 'B', 'C'],\n",
       "  'choice_type': 'approval',\n",
       "  'max': 1,\n",
       "  'min': 1,\n",
       "  'question': 'A, B, or C?',\n",
       "  'result_type': 'absolute',\n",
       "  'short_name': 'W?',\n",
       "  'tally_type': 'homomorphic'}]"
      ]
     },
     "execution_count": 7,
     "metadata": {},
     "output_type": "execute_result"
    }
   ],
   "source": [
    "election.questions"
   ]
  },
  {
   "cell_type": "code",
   "execution_count": 9,
   "id": "cf3e9a09-6859-44a5-8616-3f3c51a80fe7",
   "metadata": {},
   "outputs": [
    {
     "name": "stdout",
     "output_type": "stream",
     "text": [
      "2022-10-28 15:11:35.216126\n"
     ]
    }
   ],
   "source": [
    "print(election.frozen_at)"
   ]
  },
  {
   "cell_type": "code",
   "execution_count": 12,
   "id": "a7774ff5-fad3-4c95-bf3d-a2b3e003218c",
   "metadata": {},
   "outputs": [
    {
     "data": {
      "text/plain": [
       "[{'question': 'W?',\n",
       "  'answers': [{'answer': 'A', 'count': 0, 'winner': False},\n",
       "   {'answer': 'B', 'count': 0, 'winner': False},\n",
       "   {'answer': 'C', 'count': 1, 'winner': False}]}]"
      ]
     },
     "execution_count": 12,
     "metadata": {},
     "output_type": "execute_result"
    }
   ],
   "source": [
    "election.pretty_result"
   ]
  },
  {
   "cell_type": "code",
   "execution_count": 21,
   "id": "6160b4c8-955e-49f6-9428-a9d08e08464e",
   "metadata": {},
   "outputs": [
    {
     "data": {
      "text/plain": [
       "0"
      ]
     },
     "execution_count": 21,
     "metadata": {},
     "output_type": "execute_result"
    }
   ],
   "source": [
    "election.num_cast_votes"
   ]
  },
  {
   "cell_type": "code",
   "execution_count": 84,
   "id": "88065d1e-a334-47f4-a165-52d8e01fe844",
   "metadata": {},
   "outputs": [],
   "source": [
    "# voter = Voter(uuid=str(uuid.uuid1()), election=election, user=user)\n",
    "# voter.save()"
   ]
  },
  {
   "cell_type": "code",
   "execution_count": 12,
   "id": "3187f66d-a5e0-400d-a664-e9ce9fe7ca3f",
   "metadata": {},
   "outputs": [
    {
     "data": {
      "text/plain": [
       "1"
      ]
     },
     "execution_count": 12,
     "metadata": {},
     "output_type": "execute_result"
    }
   ],
   "source": [
    "election.num_voters"
   ]
  },
  {
   "cell_type": "code",
   "execution_count": 82,
   "id": "0f7be51a-17f6-4411-9d3e-3ad8656bbc7d",
   "metadata": {},
   "outputs": [],
   "source": [
    "for v in Voter.get_by_election(election):\n",
    "    v.delete()"
   ]
  },
  {
   "cell_type": "code",
   "execution_count": 37,
   "id": "ff869c6b-3da2-40e2-9a7d-1d7ba8d6a0a4",
   "metadata": {},
   "outputs": [
    {
     "data": {
      "text/plain": [
       "1"
      ]
     },
     "execution_count": 37,
     "metadata": {},
     "output_type": "execute_result"
    }
   ],
   "source": [
    "election.num_voters"
   ]
  },
  {
   "cell_type": "code",
   "execution_count": 173,
   "id": "58cc0440-5da5-4aac-89b7-98ba4fd6cffc",
   "metadata": {},
   "outputs": [],
   "source": [
    "answer = EncryptedAnswer.fromElectionAndAnswer(election, 0, [2])"
   ]
  },
  {
   "cell_type": "code",
   "execution_count": 174,
   "id": "af75ea26-e574-4f5c-937d-c3a6f16d819e",
   "metadata": {},
   "outputs": [
    {
     "data": {
      "text/plain": [
       "[2]"
      ]
     },
     "execution_count": 174,
     "metadata": {},
     "output_type": "execute_result"
    }
   ],
   "source": [
    "answer.answer"
   ]
  },
  {
   "cell_type": "code",
   "execution_count": 175,
   "id": "9ea6c43c-9770-4394-8cd5-3899b7041237",
   "metadata": {},
   "outputs": [
    {
     "data": {
      "text/plain": [
       "[<helios.crypto.elgamal.Ciphertext at 0x10dc876d0>,\n",
       " <helios.crypto.elgamal.Ciphertext at 0x10da55400>,\n",
       " <helios.crypto.elgamal.Ciphertext at 0x10da55670>]"
      ]
     },
     "execution_count": 175,
     "metadata": {},
     "output_type": "execute_result"
    }
   ],
   "source": [
    "answer.choices"
   ]
  },
  {
   "cell_type": "code",
   "execution_count": 176,
   "id": "54dd4ef6-a78c-447c-b64b-ae4b4187a500",
   "metadata": {},
   "outputs": [
    {
     "data": {
      "text/plain": [
       "[2]"
      ]
     },
     "execution_count": 176,
     "metadata": {},
     "output_type": "execute_result"
    }
   ],
   "source": [
    "answer.answer"
   ]
  },
  {
   "cell_type": "code",
   "execution_count": 177,
   "id": "433f34ab-26a6-48c3-8d4f-997e5a47a23a",
   "metadata": {},
   "outputs": [
    {
     "name": "stdout",
     "output_type": "stream",
     "text": [
      "bad number of proofs (expected 2, found 1)\n"
     ]
    },
    {
     "data": {
      "text/plain": [
       "False"
      ]
     },
     "execution_count": 177,
     "metadata": {},
     "output_type": "execute_result"
    }
   ],
   "source": [
    "# gotta figure out why there are two possible plaintexts (shouldn't there be 1?)\n",
    "answer.verify(election.public_key)"
   ]
  },
  {
   "cell_type": "code",
   "execution_count": 178,
   "id": "d80d28a3-9e39-4721-bd96-29aad4b18a8f",
   "metadata": {},
   "outputs": [
    {
     "data": {
      "text/plain": [
       "[<helios.crypto.algs.EGPlaintext at 0x10dc875b0>,\n",
       " <helios.crypto.algs.EGPlaintext at 0x10d9a90a0>]"
      ]
     },
     "execution_count": 178,
     "metadata": {},
     "output_type": "execute_result"
    }
   ],
   "source": [
    "answer.generate_plaintexts(election.public_key)"
   ]
  },
  {
   "cell_type": "code",
   "execution_count": 179,
   "id": "621a7a91-33c0-4fc9-aad8-65a2567c2d66",
   "metadata": {},
   "outputs": [
    {
     "data": {
      "text/plain": [
       "<helios.crypto.elgamal.ZKDisjunctiveProof at 0x10da55970>"
      ]
     },
     "execution_count": 179,
     "metadata": {},
     "output_type": "execute_result"
    }
   ],
   "source": [
    "answer.individual_proofs[0]"
   ]
  },
  {
   "cell_type": "code",
   "execution_count": null,
   "id": "d7755397-1aac-466c-99c5-b7673bbde900",
   "metadata": {},
   "outputs": [],
   "source": []
  },
  {
   "cell_type": "code",
   "execution_count": 16,
   "id": "121fb85e-60c5-4c38-a958-566b1cbe3c30",
   "metadata": {},
   "outputs": [],
   "source": [
    "vote = EncryptedVote.fromElectionAndAnswers(election, [[0]]) # first question, answer is at index 2"
   ]
  },
  {
   "cell_type": "code",
   "execution_count": 17,
   "id": "74e7613c-9312-4780-8514-67ccb6e20c5e",
   "metadata": {},
   "outputs": [
    {
     "data": {
      "text/plain": [
       "True"
      ]
     },
     "execution_count": 17,
     "metadata": {},
     "output_type": "execute_result"
    }
   ],
   "source": [
    "vote.verify(election) # nice!"
   ]
  },
  {
   "cell_type": "code",
   "execution_count": 17,
   "id": "7e51157f-e52f-4f0f-a0c6-4eae2219500d",
   "metadata": {},
   "outputs": [
    {
     "data": {
      "text/plain": [
       "<helios.workflows.homomorphic.EncryptedVote at 0x107e121c0>"
      ]
     },
     "execution_count": 17,
     "metadata": {},
     "output_type": "execute_result"
    }
   ],
   "source": [
    "vote"
   ]
  },
  {
   "cell_type": "code",
   "execution_count": 205,
   "id": "8a2455a6-9dea-4ee7-a02d-fc7b90511630",
   "metadata": {},
   "outputs": [],
   "source": [
    "# voter.vote = vote # I think wrong"
   ]
  },
  {
   "cell_type": "code",
   "execution_count": 19,
   "id": "c3e49db2-9afa-46fe-8246-f4e1ac1229aa",
   "metadata": {},
   "outputs": [
    {
     "data": {
      "text/plain": [
       "[0]"
      ]
     },
     "execution_count": 19,
     "metadata": {},
     "output_type": "execute_result"
    }
   ],
   "source": [
    "vote.answers[0].answer"
   ]
  },
  {
   "cell_type": "code",
   "execution_count": 20,
   "id": "53e66821-d33a-4c42-97eb-5850da7298d2",
   "metadata": {},
   "outputs": [],
   "source": [
    "voter = Voter.get_by_user(user)[0]"
   ]
  },
  {
   "cell_type": "code",
   "execution_count": 21,
   "id": "97d11b39-ace8-4220-b1b9-5b78c26ac8dd",
   "metadata": {},
   "outputs": [
    {
     "data": {
      "text/plain": [
       "'rp6SeN3RJq4owkURCvSoI9Wkutb/s8La66ES7NObcuY'"
      ]
     },
     "execution_count": 21,
     "metadata": {},
     "output_type": "execute_result"
    }
   ],
   "source": [
    "vote.hash"
   ]
  },
  {
   "cell_type": "code",
   "execution_count": 22,
   "id": "568703fa-2784-4c25-a7f5-3d8266d60fe1",
   "metadata": {},
   "outputs": [],
   "source": [
    "castvote = CastVote(vote=vote, vote_hash=vote.hash, voter=voter)"
   ]
  },
  {
   "cell_type": "code",
   "execution_count": 23,
   "id": "c30a5721-2db9-45ae-a8ff-0d074eb1ce97",
   "metadata": {},
   "outputs": [],
   "source": [
    "voter.store_vote(castvote)"
   ]
  },
  {
   "cell_type": "code",
   "execution_count": 24,
   "id": "1193919e-4464-4fe0-8a27-7934ff49219c",
   "metadata": {},
   "outputs": [],
   "source": [
    "election.compute_tally()"
   ]
  },
  {
   "cell_type": "code",
   "execution_count": 43,
   "id": "57288b47-d553-4670-b096-ec570ae3330b",
   "metadata": {},
   "outputs": [
    {
     "ename": "TypeError",
     "evalue": "decrypt_and_prove() missing 1 required positional argument: 'sk'",
     "output_type": "error",
     "traceback": [
      "\u001b[0;31m---------------------------------------------------------------------------\u001b[0m",
      "\u001b[0;31mTypeError\u001b[0m                                 Traceback (most recent call last)",
      "Cell \u001b[0;32mIn [43], line 1\u001b[0m\n\u001b[0;32m----> 1\u001b[0m \u001b[43melection\u001b[49m\u001b[38;5;241;43m.\u001b[39;49m\u001b[43mencrypted_tally\u001b[49m\u001b[38;5;241;43m.\u001b[39;49m\u001b[43mdecrypt_and_prove\u001b[49m\u001b[43m(\u001b[49m\u001b[43m)\u001b[49m\n",
      "\u001b[0;31mTypeError\u001b[0m: decrypt_and_prove() missing 1 required positional argument: 'sk'"
     ]
    }
   ],
   "source": [
    "election.encrypted_tally.decrypt_and_prove()"
   ]
  },
  {
   "cell_type": "code",
   "execution_count": 84,
   "id": "2083fac9-041b-456f-ac08-e7cccb8c6cad",
   "metadata": {},
   "outputs": [
    {
     "data": {
      "text/plain": [
       "<django.db.models.fields.related_descriptors.create_reverse_many_to_one_manager.<locals>.RelatedManager at 0x10a1ff310>"
      ]
     },
     "execution_count": 84,
     "metadata": {},
     "output_type": "execute_result"
    }
   ],
   "source": [
    "election.trustee_set"
   ]
  },
  {
   "cell_type": "code",
   "execution_count": 26,
   "id": "19d6761a-8aff-4e19-bf8e-7a1ce0bb3866",
   "metadata": {},
   "outputs": [
    {
     "data": {
      "text/plain": [
       "True"
      ]
     },
     "execution_count": 26,
     "metadata": {},
     "output_type": "execute_result"
    }
   ],
   "source": [
    "election.ready_for_decryption_combination()"
   ]
  },
  {
   "cell_type": "code",
   "execution_count": 27,
   "id": "f718d4d0-a651-4471-a767-08a0b9986059",
   "metadata": {},
   "outputs": [],
   "source": [
    "election.helios_trustee_decrypt()"
   ]
  },
  {
   "cell_type": "code",
   "execution_count": 28,
   "id": "3987fa35-6001-4708-9b89-9f54487a41ff",
   "metadata": {},
   "outputs": [],
   "source": [
    "election.combine_decryptions()"
   ]
  },
  {
   "cell_type": "code",
   "execution_count": 29,
   "id": "d29f69c2-aa28-441c-85fb-14834388f5e6",
   "metadata": {},
   "outputs": [
    {
     "data": {
      "text/plain": [
       "[[1, 0, 0]]"
      ]
     },
     "execution_count": 29,
     "metadata": {},
     "output_type": "execute_result"
    }
   ],
   "source": [
    "election.result"
   ]
  },
  {
   "cell_type": "code",
   "execution_count": 40,
   "id": "b9759918-fd56-4c09-b4f2-823801df217f",
   "metadata": {},
   "outputs": [
    {
     "data": {
      "text/plain": [
       "True"
      ]
     },
     "execution_count": 40,
     "metadata": {},
     "output_type": "execute_result"
    }
   ],
   "source": [
    "election.get_helios_trustee().verify_decryption_proofs()"
   ]
  },
  {
   "cell_type": "code",
   "execution_count": 46,
   "id": "c788b4c3-9396-4724-8820-4483ec27b7d9",
   "metadata": {},
   "outputs": [
    {
     "ename": "AttributeError",
     "evalue": "'EncryptedVote' object has no attribute 'vote'",
     "output_type": "error",
     "traceback": [
      "\u001b[0;31m---------------------------------------------------------------------------\u001b[0m",
      "\u001b[0;31mAttributeError\u001b[0m                            Traceback (most recent call last)",
      "Cell \u001b[0;32mIn [46], line 1\u001b[0m\n\u001b[0;32m----> 1\u001b[0m \u001b[43mvoter\u001b[49m\u001b[38;5;241;43m.\u001b[39;49m\u001b[43mstore_vote\u001b[49m\u001b[43m(\u001b[49m\u001b[43mvote\u001b[49m\u001b[43m)\u001b[49m\n",
      "File \u001b[0;32m~/Desktop/uchicago/year5/autumn22/CMSC-33300/Helios_Project/helios-server/helios/models.py:1025\u001b[0m, in \u001b[0;36mVoter.store_vote\u001b[0;34m(self, cast_vote)\u001b[0m\n\u001b[1;32m   1022\u001b[0m \u001b[38;5;28;01mif\u001b[39;00m \u001b[38;5;28mself\u001b[39m\u001b[38;5;241m.\u001b[39mcast_at \u001b[38;5;129;01mand\u001b[39;00m cast_vote\u001b[38;5;241m.\u001b[39mcast_at \u001b[38;5;241m<\u001b[39m \u001b[38;5;28mself\u001b[39m\u001b[38;5;241m.\u001b[39mcast_at:\n\u001b[1;32m   1023\u001b[0m   \u001b[38;5;28;01mreturn\u001b[39;00m\n\u001b[0;32m-> 1025\u001b[0m \u001b[38;5;28mself\u001b[39m\u001b[38;5;241m.\u001b[39mvote \u001b[38;5;241m=\u001b[39m \u001b[43mcast_vote\u001b[49m\u001b[38;5;241;43m.\u001b[39;49m\u001b[43mvote\u001b[49m\n\u001b[1;32m   1026\u001b[0m \u001b[38;5;28mself\u001b[39m\u001b[38;5;241m.\u001b[39mvote_hash \u001b[38;5;241m=\u001b[39m cast_vote\u001b[38;5;241m.\u001b[39mvote_hash\n\u001b[1;32m   1027\u001b[0m \u001b[38;5;28mself\u001b[39m\u001b[38;5;241m.\u001b[39mcast_at \u001b[38;5;241m=\u001b[39m cast_vote\u001b[38;5;241m.\u001b[39mcast_at\n",
      "\u001b[0;31mAttributeError\u001b[0m: 'EncryptedVote' object has no attribute 'vote'"
     ]
    }
   ],
   "source": [
    "voter.store_vote(vote)"
   ]
  },
  {
   "cell_type": "code",
   "execution_count": null,
   "id": "9ee8d685-59da-4b1a-90d4-aec3c30d16e8",
   "metadata": {},
   "outputs": [],
   "source": []
  },
  {
   "cell_type": "code",
   "execution_count": 224,
   "id": "0e766aba-ef5b-4968-9024-d791c76171e9",
   "metadata": {},
   "outputs": [],
   "source": []
  },
  {
   "cell_type": "code",
   "execution_count": 22,
   "id": "d94de00f-5975-485a-a0f2-93e53d7f5479",
   "metadata": {},
   "outputs": [],
   "source": [
    "tally = Tally(election=election)\n",
    "tally.add_vote(vote)"
   ]
  },
  {
   "cell_type": "code",
   "execution_count": 23,
   "id": "b84d94ca-39bc-4c7b-8a70-194b38b13886",
   "metadata": {},
   "outputs": [
    {
     "data": {
      "text/plain": [
       "<helios.workflows.homomorphic.Tally at 0x108bfd760>"
      ]
     },
     "execution_count": 23,
     "metadata": {},
     "output_type": "execute_result"
    }
   ],
   "source": [
    "tally"
   ]
  },
  {
   "cell_type": "code",
   "execution_count": null,
   "id": "f5211bd0-750e-4119-9211-e131250e0406",
   "metadata": {},
   "outputs": [],
   "source": [
    "# pretty good so far!!"
   ]
  },
  {
   "cell_type": "code",
   "execution_count": 47,
   "id": "5a4ef105-4bda-4b29-9b77-2e27c565146e",
   "metadata": {},
   "outputs": [
    {
     "data": {
      "text/plain": [
       "0"
      ]
     },
     "execution_count": 47,
     "metadata": {},
     "output_type": "execute_result"
    }
   ],
   "source": [
    "election.num_cast_votes"
   ]
  },
  {
   "cell_type": "code",
   "execution_count": 28,
   "id": "abadf815-7c08-47be-9fa1-d192587280a4",
   "metadata": {},
   "outputs": [
    {
     "data": {
      "text/plain": [
       "False"
      ]
     },
     "execution_count": 28,
     "metadata": {},
     "output_type": "execute_result"
    }
   ],
   "source": [
    "election.ready_for_decryption()"
   ]
  },
  {
   "cell_type": "code",
   "execution_count": null,
   "id": "8e028046-2f81-4346-8de6-a63ce9e8205f",
   "metadata": {},
   "outputs": [],
   "source": []
  },
  {
   "cell_type": "code",
   "execution_count": 235,
   "id": "35e754dd-bd86-497a-adca-25f4382eaf73",
   "metadata": {},
   "outputs": [
    {
     "ename": "TypeError",
     "evalue": "decrypt_and_prove() missing 1 required positional argument: 'sk'",
     "output_type": "error",
     "traceback": [
      "\u001b[0;31m---------------------------------------------------------------------------\u001b[0m",
      "\u001b[0;31mTypeError\u001b[0m                                 Traceback (most recent call last)",
      "Cell \u001b[0;32mIn [235], line 1\u001b[0m\n\u001b[0;32m----> 1\u001b[0m \u001b[43mtally\u001b[49m\u001b[38;5;241;43m.\u001b[39;49m\u001b[43mdecrypt_and_prove\u001b[49m\u001b[43m(\u001b[49m\u001b[43m)\u001b[49m\n",
      "\u001b[0;31mTypeError\u001b[0m: decrypt_and_prove() missing 1 required positional argument: 'sk'"
     ]
    }
   ],
   "source": [
    "tally.decrypt_and_prove()"
   ]
  },
  {
   "cell_type": "code",
   "execution_count": 211,
   "id": "50725f4f-0eb6-4af7-abfa-b4fb548dd52b",
   "metadata": {},
   "outputs": [],
   "source": []
  },
  {
   "cell_type": "code",
   "execution_count": 212,
   "id": "157952d5-da76-444a-9601-60a9c18dc95d",
   "metadata": {},
   "outputs": [
    {
     "ename": "AttributeError",
     "evalue": "'str' object has no attribute 'election_uuid'",
     "output_type": "error",
     "traceback": [
      "\u001b[0;31m---------------------------------------------------------------------------\u001b[0m",
      "\u001b[0;31mAttributeError\u001b[0m                            Traceback (most recent call last)",
      "Cell \u001b[0;32mIn [212], line 1\u001b[0m\n\u001b[0;32m----> 1\u001b[0m \u001b[43mcv\u001b[49m\u001b[38;5;241;43m.\u001b[39;49m\u001b[43missues\u001b[49m\u001b[43m(\u001b[49m\u001b[43melection\u001b[49m\u001b[43m)\u001b[49m\n",
      "File \u001b[0;32m~/Desktop/uchicago/year5/autumn22/CMSC-33300/Helios_Project/helios-server/helios/models.py:1137\u001b[0m, in \u001b[0;36mCastVote.issues\u001b[0;34m(self, election)\u001b[0m\n\u001b[1;32m   1134\u001b[0m issues \u001b[38;5;241m=\u001b[39m []\n\u001b[1;32m   1136\u001b[0m \u001b[38;5;66;03m# check the election\u001b[39;00m\n\u001b[0;32m-> 1137\u001b[0m \u001b[38;5;28;01mif\u001b[39;00m \u001b[38;5;28;43mself\u001b[39;49m\u001b[38;5;241;43m.\u001b[39;49m\u001b[43mvote\u001b[49m\u001b[38;5;241;43m.\u001b[39;49m\u001b[43melection_uuid\u001b[49m \u001b[38;5;241m!=\u001b[39m election\u001b[38;5;241m.\u001b[39muuid:\n\u001b[1;32m   1138\u001b[0m   issues\u001b[38;5;241m.\u001b[39mappend(\u001b[38;5;124m\"\u001b[39m\u001b[38;5;124mthe vote\u001b[39m\u001b[38;5;124m'\u001b[39m\u001b[38;5;124ms election UUID does not match the election for which this vote is being cast\u001b[39m\u001b[38;5;124m\"\u001b[39m)\n\u001b[1;32m   1140\u001b[0m \u001b[38;5;28;01mreturn\u001b[39;00m issues\n",
      "\u001b[0;31mAttributeError\u001b[0m: 'str' object has no attribute 'election_uuid'"
     ]
    }
   ],
   "source": [
    "cv.issues(election)"
   ]
  },
  {
   "cell_type": "code",
   "execution_count": 107,
   "id": "8dc7683c-074d-4934-b571-85d70984690b",
   "metadata": {},
   "outputs": [
    {
     "ename": "AttributeError",
     "evalue": "Manager isn't accessible via CastVote instances",
     "output_type": "error",
     "traceback": [
      "\u001b[0;31m---------------------------------------------------------------------------\u001b[0m",
      "\u001b[0;31mAttributeError\u001b[0m                            Traceback (most recent call last)",
      "Cell \u001b[0;32mIn [107], line 1\u001b[0m\n\u001b[0;32m----> 1\u001b[0m \u001b[43mcv\u001b[49m\u001b[38;5;241;43m.\u001b[39;49m\u001b[43mobjects\u001b[49m\u001b[38;5;241m.\u001b[39mfilter(voter \u001b[38;5;241m=\u001b[39m voter)\n",
      "File \u001b[0;32m~/miniconda3/envs/helios3/lib/python3.9/site-packages/django/db/models/manager.py:176\u001b[0m, in \u001b[0;36mManagerDescriptor.__get__\u001b[0;34m(self, instance, cls)\u001b[0m\n\u001b[1;32m    174\u001b[0m \u001b[38;5;28;01mdef\u001b[39;00m \u001b[38;5;21m__get__\u001b[39m(\u001b[38;5;28mself\u001b[39m, instance, \u001b[38;5;28mcls\u001b[39m\u001b[38;5;241m=\u001b[39m\u001b[38;5;28;01mNone\u001b[39;00m):\n\u001b[1;32m    175\u001b[0m     \u001b[38;5;28;01mif\u001b[39;00m instance \u001b[38;5;129;01mis\u001b[39;00m \u001b[38;5;129;01mnot\u001b[39;00m \u001b[38;5;28;01mNone\u001b[39;00m:\n\u001b[0;32m--> 176\u001b[0m         \u001b[38;5;28;01mraise\u001b[39;00m \u001b[38;5;167;01mAttributeError\u001b[39;00m(\u001b[38;5;124m\"\u001b[39m\u001b[38;5;124mManager isn\u001b[39m\u001b[38;5;124m'\u001b[39m\u001b[38;5;124mt accessible via \u001b[39m\u001b[38;5;132;01m%s\u001b[39;00m\u001b[38;5;124m instances\u001b[39m\u001b[38;5;124m\"\u001b[39m \u001b[38;5;241m%\u001b[39m \u001b[38;5;28mcls\u001b[39m\u001b[38;5;241m.\u001b[39m\u001b[38;5;18m__name__\u001b[39m)\n\u001b[1;32m    178\u001b[0m     \u001b[38;5;28;01mif\u001b[39;00m \u001b[38;5;28mcls\u001b[39m\u001b[38;5;241m.\u001b[39m_meta\u001b[38;5;241m.\u001b[39mabstract:\n\u001b[1;32m    179\u001b[0m         \u001b[38;5;28;01mraise\u001b[39;00m \u001b[38;5;167;01mAttributeError\u001b[39;00m(\u001b[38;5;124m\"\u001b[39m\u001b[38;5;124mManager isn\u001b[39m\u001b[38;5;124m'\u001b[39m\u001b[38;5;124mt available; \u001b[39m\u001b[38;5;132;01m%s\u001b[39;00m\u001b[38;5;124m is abstract\u001b[39m\u001b[38;5;124m\"\u001b[39m \u001b[38;5;241m%\u001b[39m (\n\u001b[1;32m    180\u001b[0m             \u001b[38;5;28mcls\u001b[39m\u001b[38;5;241m.\u001b[39m_meta\u001b[38;5;241m.\u001b[39mobject_name,\n\u001b[1;32m    181\u001b[0m         ))\n",
      "\u001b[0;31mAttributeError\u001b[0m: Manager isn't accessible via CastVote instances"
     ]
    }
   ],
   "source": [
    "cv.objects.filter(voter = voter)"
   ]
  },
  {
   "cell_type": "code",
   "execution_count": 79,
   "id": "4f62e4d4-03d3-4cb4-8fcd-d0694e922f6e",
   "metadata": {},
   "outputs": [
    {
     "name": "stdout",
     "output_type": "stream",
     "text": [
      "['frozen', 'Trustee Ben for Helios added']\n"
     ]
    }
   ],
   "source": [
    "pulled_logs = [l.log for l in election.get_log().all()]\n",
    "print(pulled_logs)"
   ]
  },
  {
   "cell_type": "code",
   "execution_count": null,
   "id": "1c72ed60-e459-4c83-8119-01c1e83add35",
   "metadata": {},
   "outputs": [],
   "source": []
  },
  {
   "cell_type": "code",
   "execution_count": 18,
   "id": "ec7988e2",
   "metadata": {},
   "outputs": [],
   "source": [
    "import sys\n",
    "sys.path.append(\"helios-server/\")\n",
    "import helios\n",
    "# import helios.models as models\n",
    "sys.path.append(\"helios-server/helios/crypto/\")\n",
    "from numtheory import *\n",
    "from utils import *\n",
    "from algs import *\n",
    "sys.path.append(\"helios-server/helios/workflows/\")\n",
    "from homomorphic import *\n",
    "\n",
    "import json"
   ]
  },
  {
   "cell_type": "code",
   "execution_count": 8,
   "id": "6f4058db-c284-4230-881c-ca40d31c5fba",
   "metadata": {},
   "outputs": [
    {
     "ename": "NameError",
     "evalue": "name 'json' is not defined",
     "output_type": "error",
     "traceback": [
      "\u001b[0;31m---------------------------------------------------------------------------\u001b[0m",
      "\u001b[0;31mNameError\u001b[0m                                 Traceback (most recent call last)",
      "Cell \u001b[0;32mIn [8], line 1\u001b[0m\n\u001b[0;32m----> 1\u001b[0m election \u001b[38;5;241m=\u001b[39m \u001b[43mjson\u001b[49m\u001b[38;5;241m.\u001b[39mload(\u001b[38;5;28mopen\u001b[39m(\u001b[38;5;124m\"\u001b[39m\u001b[38;5;124mhelios-server/helios/fixtures/election.json\u001b[39m\u001b[38;5;124m\"\u001b[39m, \u001b[38;5;124m\"\u001b[39m\u001b[38;5;124mr\u001b[39m\u001b[38;5;124m\"\u001b[39m))[\u001b[38;5;241m0\u001b[39m]\n",
      "\u001b[0;31mNameError\u001b[0m: name 'json' is not defined"
     ]
    }
   ],
   "source": [
    "election = json.load(open(\"helios-server/helios/fixtures/election.json\", \"r\"))[0]"
   ]
  },
  {
   "cell_type": "code",
   "execution_count": 7,
   "id": "7d39975a-167b-4521-89db-e11e610066dc",
   "metadata": {},
   "outputs": [
    {
     "data": {
      "text/plain": [
       "<Election: Election object (1)>"
      ]
     },
     "execution_count": 7,
     "metadata": {},
     "output_type": "execute_result"
    }
   ],
   "source": [
    "election"
   ]
  },
  {
   "cell_type": "code",
   "execution_count": null,
   "id": "4fa111f3-d871-4920-9508-da81dffaa711",
   "metadata": {},
   "outputs": [],
   "source": []
  },
  {
   "cell_type": "code",
   "execution_count": null,
   "id": "c67908e3-d8c5-4e3e-98dc-35ff20f160ed",
   "metadata": {},
   "outputs": [],
   "source": [
    "self.election = models.Election.objects.get(short_name='test')"
   ]
  },
  {
   "cell_type": "code",
   "execution_count": 26,
   "id": "827a3e2d-f5b1-4f30-80b9-08eaaf5f0af1",
   "metadata": {},
   "outputs": [
    {
     "ename": "AttributeError",
     "evalue": "'dict' object has no attribute 'questions'",
     "output_type": "error",
     "traceback": [
      "\u001b[0;31m---------------------------------------------------------------------------\u001b[0m",
      "\u001b[0;31mAttributeError\u001b[0m                            Traceback (most recent call last)",
      "Cell \u001b[0;32mIn [26], line 2\u001b[0m\n\u001b[1;32m      1\u001b[0m tally \u001b[38;5;241m=\u001b[39m Tally()\n\u001b[0;32m----> 2\u001b[0m \u001b[43mtally\u001b[49m\u001b[38;5;241;43m.\u001b[39;49m\u001b[43minit_election\u001b[49m\u001b[43m(\u001b[49m\u001b[43melection\u001b[49m\u001b[43m)\u001b[49m\n",
      "File \u001b[0;32m~/Desktop/uchicago/year5/autumn22/CMSC-33300/Helios_Project/helios-server/helios/workflows/homomorphic.py:295\u001b[0m, in \u001b[0;36mTally.init_election\u001b[0;34m(self, election)\u001b[0m\n\u001b[1;32m    291\u001b[0m \u001b[38;5;124;03m\"\"\"\u001b[39;00m\n\u001b[1;32m    292\u001b[0m \u001b[38;5;124;03mgiven the election, initialize some params\u001b[39;00m\n\u001b[1;32m    293\u001b[0m \u001b[38;5;124;03m\"\"\"\u001b[39;00m\n\u001b[1;32m    294\u001b[0m \u001b[38;5;28mself\u001b[39m\u001b[38;5;241m.\u001b[39melection \u001b[38;5;241m=\u001b[39m election\n\u001b[0;32m--> 295\u001b[0m \u001b[38;5;28mself\u001b[39m\u001b[38;5;241m.\u001b[39mquestions \u001b[38;5;241m=\u001b[39m \u001b[43melection\u001b[49m\u001b[38;5;241;43m.\u001b[39;49m\u001b[43mquestions\u001b[49m\n\u001b[1;32m    296\u001b[0m \u001b[38;5;28mself\u001b[39m\u001b[38;5;241m.\u001b[39mpublic_key \u001b[38;5;241m=\u001b[39m election\u001b[38;5;241m.\u001b[39mpublic_key\n",
      "\u001b[0;31mAttributeError\u001b[0m: 'dict' object has no attribute 'questions'"
     ]
    }
   ],
   "source": [
    "tally = Tally()\n",
    "tally.init_election(election)"
   ]
  },
  {
   "cell_type": "code",
   "execution_count": 22,
   "id": "72d6a143-18d9-410d-a4dc-f29c7445dede",
   "metadata": {},
   "outputs": [
    {
     "data": {
      "text/plain": [
       "<homomorphic.Tally at 0x10a6b41c0>"
      ]
     },
     "execution_count": 22,
     "metadata": {},
     "output_type": "execute_result"
    }
   ],
   "source": [
    "tally"
   ]
  },
  {
   "cell_type": "code",
   "execution_count": 14,
   "id": "630eef56",
   "metadata": {},
   "outputs": [],
   "source": [
    "x = EncryptedAnswer(choices=[\"A\",\"B\"], answer=\"A\")"
   ]
  },
  {
   "cell_type": "code",
   "execution_count": 16,
   "id": "6e3bd94d-3be0-4421-9652-bc03a9eb53e9",
   "metadata": {},
   "outputs": [
    {
     "data": {
      "text/plain": [
       "['A', 'B']"
      ]
     },
     "execution_count": 16,
     "metadata": {},
     "output_type": "execute_result"
    }
   ],
   "source": [
    "x.choices"
   ]
  },
  {
   "cell_type": "code",
   "execution_count": 17,
   "id": "b1a27e78-5d94-4e2b-9568-0b00ba882450",
   "metadata": {},
   "outputs": [
    {
     "data": {
      "text/plain": [
       "'A'"
      ]
     },
     "execution_count": 17,
     "metadata": {},
     "output_type": "execute_result"
    }
   ],
   "source": [
    "x.answer"
   ]
  },
  {
   "cell_type": "code",
   "execution_count": null,
   "id": "026f2276-d1e8-4164-8cca-bc11d5649e4e",
   "metadata": {},
   "outputs": [],
   "source": []
  }
 ],
 "metadata": {
  "kernelspec": {
   "display_name": "Python 3 (ipykernel)",
   "language": "python",
   "name": "python3"
  },
  "language_info": {
   "codemirror_mode": {
    "name": "ipython",
    "version": 3
   },
   "file_extension": ".py",
   "mimetype": "text/x-python",
   "name": "python",
   "nbconvert_exporter": "python",
   "pygments_lexer": "ipython3",
   "version": "3.9.13"
  }
 },
 "nbformat": 4,
 "nbformat_minor": 5
}
