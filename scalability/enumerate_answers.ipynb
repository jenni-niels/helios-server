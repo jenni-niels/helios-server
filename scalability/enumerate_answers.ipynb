{
 "cells": [
  {
   "cell_type": "code",
   "execution_count": 9,
   "metadata": {},
   "outputs": [],
   "source": [
    "import sys\n",
    "sys.path.append(\"../../helios-server/\")\n",
    "import helios.models as models\n",
    "from helios_auth import models as auth_model\n",
    "import helios.views as views\n",
    "from helios.models import CastVote, Voter, Trustee\n",
    "from helios.workflows.homomorphic import EncryptedVote, Tally, EncryptedAnswer\n",
    "from helios.crypto import algs\n",
    "from election_utils import *\n",
    "from tqdm import tqdm, trange\n",
    "# import click\n",
    "import time\n",
    "import os\n",
    "import matplotlib.pyplot as plt\n",
    "import numpy as np\n",
    "from itertools import combinations\n",
    "import pickle"
   ]
  },
  {
   "cell_type": "code",
   "execution_count": 3,
   "metadata": {},
   "outputs": [],
   "source": [
    "# num_questions = 4\n",
    "num_choices = 4\n",
    "choices = [i for i in range(num_choices)]"
   ]
  },
  {
   "cell_type": "code",
   "execution_count": 4,
   "metadata": {},
   "outputs": [
    {
     "name": "stderr",
     "output_type": "stream",
     "text": [
      "100%|██████████| 5/5 [00:00<00:00, 6773.75it/s]\n"
     ]
    }
   ],
   "source": [
    "possible_answers = []\n",
    "for i in trange(num_choices+1):\n",
    "    possible_answers.extend([list(xs) for xs in combinations(choices, i)])"
   ]
  },
  {
   "cell_type": "code",
   "execution_count": 5,
   "metadata": {},
   "outputs": [
    {
     "data": {
      "text/plain": [
       "[[],\n",
       " [0],\n",
       " [1],\n",
       " [2],\n",
       " [3],\n",
       " [0, 1],\n",
       " [0, 2],\n",
       " [0, 3],\n",
       " [1, 2],\n",
       " [1, 3],\n",
       " [2, 3],\n",
       " [0, 1, 2],\n",
       " [0, 1, 3],\n",
       " [0, 2, 3],\n",
       " [1, 2, 3],\n",
       " [0, 1, 2, 3]]"
      ]
     },
     "execution_count": 5,
     "metadata": {},
     "output_type": "execute_result"
    }
   ],
   "source": [
    "possible_answers"
   ]
  },
  {
   "cell_type": "code",
   "execution_count": 6,
   "metadata": {},
   "outputs": [],
   "source": [
    "election_keypair = pickle.load(open(\"election_keypair.p\", \"rb\"))"
   ]
  },
  {
   "cell_type": "code",
   "execution_count": 15,
   "metadata": {},
   "outputs": [],
   "source": [
    "def fromElectionAndAnswer(choice_indicies, answer, pk, q_max, q_min=0):\n",
    "    \"\"\"\n",
    "    Given an election, a question number, and a list of answers to that question\n",
    "    in the form of an array of 0-based indexes into the answer array,\n",
    "    produce an EncryptedAnswer that works.\n",
    "    \"\"\"\n",
    "    \n",
    "    # initialize choices, individual proofs, randomness and overall proof\n",
    "    choices = [None for a in range(len(choice_indicies))]\n",
    "    individual_proofs = [None for a in range(len(choice_indicies))]\n",
    "    overall_proof = None\n",
    "    randomness = [None for a in range(len(choice_indicies))]\n",
    "    \n",
    "    # possible plaintexts [0, 1]\n",
    "    plaintexts = EncryptedAnswer.generate_plaintexts(pk)\n",
    "    \n",
    "    # keep track of number of options selected.\n",
    "    num_selected_answers = 0\n",
    "    \n",
    "    # homomorphic sum of all\n",
    "    homomorphic_sum = 0\n",
    "    randomness_sum = 0\n",
    "\n",
    "    # min and max for number of answers, useful later\n",
    "\n",
    "    min_answers = q_min\n",
    "    max_answers = q_max\n",
    "\n",
    "    # go through each possible answer and encrypt either a g^0 or a g^1.\n",
    "    for answer_num in range(len(choice_indicies)):\n",
    "      plaintext_index = 0\n",
    "      \n",
    "      # assuming a list of answers\n",
    "      if answer_num in answer:\n",
    "        plaintext_index = 1\n",
    "        num_selected_answers += 1\n",
    "\n",
    "      # randomness and encryption\n",
    "      randomness[answer_num] = algs.random.mpz_lt(pk.q)\n",
    "      choices[answer_num] = pk.encrypt_with_r(plaintexts[plaintext_index], randomness[answer_num])\n",
    "      \n",
    "      # generate proof\n",
    "      individual_proofs[answer_num] = choices[answer_num].generate_disjunctive_encryption_proof(plaintexts, plaintext_index, \n",
    "                                                randomness[answer_num], algs.EG_disjunctive_challenge_generator)\n",
    "                                                \n",
    "      # sum things up homomorphically if needed\n",
    "      if max_answers is not None:\n",
    "        homomorphic_sum = choices[answer_num] * homomorphic_sum\n",
    "        randomness_sum = (randomness_sum + randomness[answer_num]) % pk.q\n",
    "\n",
    "    # prove that the sum is 0 or 1 (can be \"blank vote\" for this answer)\n",
    "    # num_selected_answers is 0 or 1, which is the index into the plaintext that is actually encoded\n",
    "    \n",
    "    if num_selected_answers < min_answers:\n",
    "      raise Exception(\"Need to select at least %s answer(s)\" % min_answers)\n",
    "    \n",
    "    if max_answers is not None:\n",
    "      sum_plaintexts = EncryptedAnswer.generate_plaintexts(pk, min=min_answers, max=max_answers)\n",
    "    \n",
    "      # need to subtract the min from the offset\n",
    "      overall_proof = homomorphic_sum.generate_disjunctive_encryption_proof(sum_plaintexts, num_selected_answers - min_answers, randomness_sum, algs.EG_disjunctive_challenge_generator);\n",
    "    else:\n",
    "      # approval voting\n",
    "      overall_proof = None\n",
    "    \n",
    "    return EncryptedAnswer(choices, individual_proofs, overall_proof, randomness, answer)"
   ]
  },
  {
   "cell_type": "code",
   "execution_count": 28,
   "metadata": {},
   "outputs": [
    {
     "name": "stdout",
     "output_type": "stream",
     "text": [
      "Enumerating possible answers with 1 choices\n"
     ]
    },
    {
     "name": "stderr",
     "output_type": "stream",
     "text": [
      "100%|██████████| 2/2 [00:00<00:00, 9788.34it/s]\n"
     ]
    },
    {
     "name": "stdout",
     "output_type": "stream",
     "text": [
      "Generation encyptions\n"
     ]
    },
    {
     "name": "stderr",
     "output_type": "stream",
     "text": [
      "100%|██████████| 2/2 [00:00<00:00,  5.80it/s]\n"
     ]
    },
    {
     "name": "stdout",
     "output_type": "stream",
     "text": [
      "Enumerating possible answers with 2 choices\n"
     ]
    },
    {
     "name": "stderr",
     "output_type": "stream",
     "text": [
      "100%|██████████| 3/3 [00:00<00:00, 11387.25it/s]\n"
     ]
    },
    {
     "name": "stdout",
     "output_type": "stream",
     "text": [
      "Generation encyptions\n"
     ]
    },
    {
     "name": "stderr",
     "output_type": "stream",
     "text": [
      "100%|██████████| 4/4 [00:01<00:00,  3.31it/s]\n"
     ]
    },
    {
     "name": "stdout",
     "output_type": "stream",
     "text": [
      "Enumerating possible answers with 3 choices\n"
     ]
    },
    {
     "name": "stderr",
     "output_type": "stream",
     "text": [
      "100%|██████████| 4/4 [00:00<00:00, 7639.90it/s]\n"
     ]
    },
    {
     "name": "stdout",
     "output_type": "stream",
     "text": [
      "Generation encyptions\n"
     ]
    },
    {
     "name": "stderr",
     "output_type": "stream",
     "text": [
      "100%|██████████| 8/8 [00:03<00:00,  2.22it/s]\n"
     ]
    },
    {
     "name": "stdout",
     "output_type": "stream",
     "text": [
      "Enumerating possible answers with 4 choices\n"
     ]
    },
    {
     "name": "stderr",
     "output_type": "stream",
     "text": [
      "100%|██████████| 5/5 [00:00<00:00, 14246.96it/s]\n"
     ]
    },
    {
     "name": "stdout",
     "output_type": "stream",
     "text": [
      "Generation encyptions\n"
     ]
    },
    {
     "name": "stderr",
     "output_type": "stream",
     "text": [
      "100%|██████████| 16/16 [00:08<00:00,  1.85it/s]\n"
     ]
    }
   ],
   "source": [
    "for num_choices in range(1, 5):\n",
    "    choices = [i for i in range(num_choices)]\n",
    "    print(f\"Enumerating possible answers with {num_choices} choices\")\n",
    "    possible_answers = []\n",
    "    for i in trange(num_choices+1):\n",
    "        possible_answers.extend([list(xs) for xs in combinations(choices, i)])\n",
    "    \n",
    "    print(f\"Generation encyptions\")\n",
    "    encypted_answers = [fromElectionAndAnswer(choices, answer, election_keypair[\"public_key\"], num_choices) for answer in tqdm(possible_answers)]\n",
    "    np.save(f\"encrypted_answers/all_answers_with_{num_choices}_choices.npy\", encypted_answers,  allow_pickle=True)"
   ]
  },
  {
   "cell_type": "code",
   "execution_count": 27,
   "metadata": {},
   "outputs": [
    {
     "data": {
      "text/plain": [
       "[1, 2, 3, 4]"
      ]
     },
     "execution_count": 27,
     "metadata": {},
     "output_type": "execute_result"
    }
   ],
   "source": [
    "list(range(1, 5))"
   ]
  },
  {
   "cell_type": "code",
   "execution_count": 20,
   "metadata": {},
   "outputs": [],
   "source": [
    "xs = np.load(f\"encrypted_answers/all_answers_with_{num_choices}_choices.npy\",  allow_pickle=True)"
   ]
  }
 ],
 "metadata": {
  "kernelspec": {
   "display_name": "Python 3.9.13 ('helios')",
   "language": "python",
   "name": "python3"
  },
  "language_info": {
   "codemirror_mode": {
    "name": "ipython",
    "version": 3
   },
   "file_extension": ".py",
   "mimetype": "text/x-python",
   "name": "python",
   "nbconvert_exporter": "python",
   "pygments_lexer": "ipython3",
   "version": "3.9.13"
  },
  "orig_nbformat": 4,
  "vscode": {
   "interpreter": {
    "hash": "bba63158daf8f0bfc206d0878743edfb4c6873c2fe9a093a4c8cb5a6f9843d61"
   }
  }
 },
 "nbformat": 4,
 "nbformat_minor": 2
}
