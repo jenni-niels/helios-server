{
 "cells": [
  {
   "cell_type": "code",
   "execution_count": 1,
   "metadata": {},
   "outputs": [],
   "source": [
    "import sys\n",
    "sys.path.append(\"../../helios-server/\")\n",
    "import helios.models as models\n",
    "from helios_auth import models as auth_model\n",
    "import helios.views as views\n",
    "from helios.models import CastVote, Voter, Trustee\n",
    "from helios.workflows.homomorphic import EncryptedVote, Tally, EncryptedAnswer\n",
    "from helios.crypto import algs\n",
    "from election_utils import *\n",
    "from tqdm import tqdm, trange\n",
    "# import click\n",
    "import time\n",
    "import os\n",
    "import matplotlib.pyplot as plt\n",
    "import numpy as np\n",
    "from itertools import combinations\n",
    "import pickle"
   ]
  },
  {
   "cell_type": "code",
   "execution_count": 3,
   "metadata": {},
   "outputs": [],
   "source": [
    "# num_questions = 4\n",
    "num_choices = 4\n",
    "choices = [i for i in range(num_choices)]"
   ]
  },
  {
   "cell_type": "code",
   "execution_count": 4,
   "metadata": {},
   "outputs": [
    {
     "name": "stderr",
     "output_type": "stream",
     "text": [
      "100%|██████████| 5/5 [00:00<00:00, 6773.75it/s]\n"
     ]
    }
   ],
   "source": [
    "possible_answers = []\n",
    "for i in trange(num_choices+1):\n",
    "    possible_answers.extend([list(xs) for xs in combinations(choices, i)])"
   ]
  },
  {
   "cell_type": "code",
   "execution_count": 5,
   "metadata": {},
   "outputs": [
    {
     "data": {
      "text/plain": [
       "[[],\n",
       " [0],\n",
       " [1],\n",
       " [2],\n",
       " [3],\n",
       " [0, 1],\n",
       " [0, 2],\n",
       " [0, 3],\n",
       " [1, 2],\n",
       " [1, 3],\n",
       " [2, 3],\n",
       " [0, 1, 2],\n",
       " [0, 1, 3],\n",
       " [0, 2, 3],\n",
       " [1, 2, 3],\n",
       " [0, 1, 2, 3]]"
      ]
     },
     "execution_count": 5,
     "metadata": {},
     "output_type": "execute_result"
    }
   ],
   "source": [
    "possible_answers"
   ]
  },
  {
   "cell_type": "code",
   "execution_count": 6,
   "metadata": {},
   "outputs": [],
   "source": [
    "election_keypair = pickle.load(open(\"election_keypair.p\", \"rb\"))"
   ]
  },
  {
   "cell_type": "code",
   "execution_count": 40,
   "metadata": {},
   "outputs": [],
   "source": [
    "def fromElectionAndAnswer(choice_indicies, answer, pk, q_max, q_min=0):\n",
    "    \"\"\"\n",
    "    Given an election, a question number, and a list of answers to that question\n",
    "    in the form of an array of 0-based indexes into the answer array,\n",
    "    produce an EncryptedAnswer that works.\n",
    "    \"\"\"\n",
    "    \n",
    "    # initialize choices, individual proofs, randomness and overall proof\n",
    "    choices = [None for a in range(len(choice_indicies))]\n",
    "    individual_proofs = [None for a in range(len(choice_indicies))]\n",
    "    overall_proof = None\n",
    "    randomness = [None for a in range(len(choice_indicies))]\n",
    "    \n",
    "    # possible plaintexts [0, 1]\n",
    "    plaintexts = EncryptedAnswer.generate_plaintexts(pk)\n",
    "    \n",
    "    # keep track of number of options selected.\n",
    "    num_selected_answers = 0\n",
    "    \n",
    "    # homomorphic sum of all\n",
    "    homomorphic_sum = 0\n",
    "    randomness_sum = 0\n",
    "\n",
    "    # min and max for number of answers, useful later\n",
    "\n",
    "    min_answers = q_min\n",
    "    max_answers = q_max\n",
    "\n",
    "    # go through each possible answer and encrypt either a g^0 or a g^1.\n",
    "    for answer_num in range(len(choice_indicies)):\n",
    "      plaintext_index = 0\n",
    "      \n",
    "      # assuming a list of answers\n",
    "      if answer_num in answer:\n",
    "        plaintext_index = 1\n",
    "        num_selected_answers += 1\n",
    "\n",
    "      # randomness and encryption\n",
    "      randomness[answer_num] = algs.random.mpz_lt(pk.q)\n",
    "      choices[answer_num] = pk.encrypt_with_r(plaintexts[plaintext_index], randomness[answer_num])\n",
    "      \n",
    "      # generate proof\n",
    "      individual_proofs[answer_num] = choices[answer_num].generate_disjunctive_encryption_proof(plaintexts, plaintext_index, \n",
    "                                                randomness[answer_num], algs.EG_disjunctive_challenge_generator)\n",
    "                                                \n",
    "      # sum things up homomorphically if needed\n",
    "      if max_answers is not None:\n",
    "        homomorphic_sum = choices[answer_num] * homomorphic_sum\n",
    "        randomness_sum = (randomness_sum + randomness[answer_num]) % pk.q\n",
    "\n",
    "    # prove that the sum is 0 or 1 (can be \"blank vote\" for this answer)\n",
    "    # num_selected_answers is 0 or 1, which is the index into the plaintext that is actually encoded\n",
    "    \n",
    "    if num_selected_answers < min_answers:\n",
    "      raise Exception(\"Need to select at least %s answer(s)\" % min_answers)\n",
    "    \n",
    "    if max_answers is not None:\n",
    "      sum_plaintexts = EncryptedAnswer.generate_plaintexts(pk, min=min_answers, max=max_answers)\n",
    "    \n",
    "      # need to subtract the min from the offset\n",
    "      overall_proof = homomorphic_sum.generate_disjunctive_encryption_proof(sum_plaintexts, num_selected_answers - min_answers, randomness_sum, algs.EG_disjunctive_challenge_generator);\n",
    "    else:\n",
    "      # approval voting\n",
    "      overall_proof = None\n",
    "    \n",
    "    return EncryptedAnswer(choices, individual_proofs, overall_proof, randomness, answer)"
   ]
  },
  {
   "cell_type": "code",
   "execution_count": 41,
   "metadata": {},
   "outputs": [
    {
     "name": "stdout",
     "output_type": "stream",
     "text": [
      "Enumerating possible answers with 1 choices\n"
     ]
    },
    {
     "name": "stderr",
     "output_type": "stream",
     "text": [
      "\n",
      "100%|██████████████████████████████████████████| 2/2 [00:00<00:00, 20213.51it/s]\u001b[A\n"
     ]
    },
    {
     "name": "stdout",
     "output_type": "stream",
     "text": [
      "Generating encyptions\n"
     ]
    },
    {
     "name": "stderr",
     "output_type": "stream",
     "text": [
      "\n",
      "  0%|                                                     | 0/2 [00:00<?, ?it/s]\u001b[A\n",
      "100%|█████████████████████████████████████████████| 2/2 [00:00<00:00, 14.03it/s]\u001b[A\n"
     ]
    }
   ],
   "source": [
    "for num_choices in range(1, 2):\n",
    "    choices = [i for i in range(num_choices)]\n",
    "    print(f\"Enumerating possible answers with {num_choices} choices\")\n",
    "    possible_answers = []\n",
    "    for i in trange(num_choices+1):\n",
    "        possible_answers.extend([list(xs) for xs in combinations(choices, i)])\n",
    "    \n",
    "    print(f\"Generating encyptions\")\n",
    "    encypted_answers = [fromElectionAndAnswer(choices, answer, election_keypair[\"public_key\"], num_choices) for answer in tqdm(possible_answers)]\n",
    "    # np.save(f\"encrypted_answers/all_answers_with_{num_choices}_choices.npy\", encypted_answers,  allow_pickle=True)"
   ]
  },
  {
   "cell_type": "code",
   "execution_count": 49,
   "metadata": {},
   "outputs": [
    {
     "ename": "TypeError",
     "evalue": "unsupported operand type(s) for //: 'list' and 'int'",
     "output_type": "error",
     "traceback": [
      "\u001b[0;31m---------------------------------------------------------------------------\u001b[0m",
      "\u001b[0;31mTypeError\u001b[0m                                 Traceback (most recent call last)",
      "Cell \u001b[0;32mIn [49], line 1\u001b[0m\n\u001b[0;32m----> 1\u001b[0m \u001b[43mencypted_answers\u001b[49m\u001b[43m[\u001b[49m\u001b[38;5;241;43m0\u001b[39;49m\u001b[43m]\u001b[49m\u001b[38;5;241;43m.\u001b[39;49m\u001b[43mchoices\u001b[49m\u001b[43m[\u001b[49m\u001b[38;5;241;43m0\u001b[39;49m\u001b[43m]\u001b[49m\u001b[38;5;241;43m.\u001b[39;49m\u001b[43mdecrypt\u001b[49m\u001b[43m(\u001b[49m\u001b[43mdecryption_factors\u001b[49m\u001b[43m,\u001b[49m\u001b[43m \u001b[49m\u001b[43mpk\u001b[49m\u001b[43m)\u001b[49m\n",
      "File \u001b[0;32m~/Desktop/uchicago/year5/autumn22/CMSC-33300/Helios_Project/helios-server/scalability/../../helios-server/helios/crypto/elgamal.py:424\u001b[0m, in \u001b[0;36mCiphertext.decrypt\u001b[0;34m(self, decryption_factors, public_key)\u001b[0m\n\u001b[1;32m    422\u001b[0m running_decryption \u001b[38;5;241m=\u001b[39m \u001b[38;5;28mself\u001b[39m\u001b[38;5;241m.\u001b[39mbeta\n\u001b[1;32m    423\u001b[0m \u001b[38;5;28;01mfor\u001b[39;00m dec_factor \u001b[38;5;129;01min\u001b[39;00m decryption_factors:\n\u001b[0;32m--> 424\u001b[0m   running_decryption \u001b[38;5;241m=\u001b[39m (running_decryption \u001b[38;5;241m*\u001b[39m \u001b[43minverse\u001b[49m\u001b[43m(\u001b[49m\u001b[43mdec_factor\u001b[49m\u001b[43m,\u001b[49m\u001b[43m \u001b[49m\u001b[43mpublic_key\u001b[49m\u001b[38;5;241;43m.\u001b[39;49m\u001b[43mp\u001b[49m\u001b[43m)\u001b[49m) \u001b[38;5;241m%\u001b[39m public_key\u001b[38;5;241m.\u001b[39mp\n\u001b[1;32m    426\u001b[0m \u001b[38;5;28;01mreturn\u001b[39;00m running_decryption\n",
      "File \u001b[0;32m~/miniconda3/envs/helios3/lib/python3.9/site-packages/Crypto/Util/number.py:128\u001b[0m, in \u001b[0;36minverse\u001b[0;34m(u, v)\u001b[0m\n\u001b[1;32m    126\u001b[0m u1, v1 \u001b[38;5;241m=\u001b[39m \u001b[38;5;241m1\u001b[39m, \u001b[38;5;241m0\u001b[39m\n\u001b[1;32m    127\u001b[0m \u001b[38;5;28;01mwhile\u001b[39;00m v3 \u001b[38;5;241m>\u001b[39m \u001b[38;5;241m0\u001b[39m:\n\u001b[0;32m--> 128\u001b[0m     q \u001b[38;5;241m=\u001b[39m \u001b[43mu3\u001b[49m\u001b[43m \u001b[49m\u001b[38;5;241;43m/\u001b[39;49m\u001b[38;5;241;43m/\u001b[39;49m\u001b[43m \u001b[49m\u001b[43mv3\u001b[49m\n\u001b[1;32m    129\u001b[0m     u1, v1 \u001b[38;5;241m=\u001b[39m v1, u1 \u001b[38;5;241m-\u001b[39m v1\u001b[38;5;241m*\u001b[39mq\n\u001b[1;32m    130\u001b[0m     u3, v3 \u001b[38;5;241m=\u001b[39m v3, u3 \u001b[38;5;241m-\u001b[39m v3\u001b[38;5;241m*\u001b[39mq\n",
      "\u001b[0;31mTypeError\u001b[0m: unsupported operand type(s) for //: 'list' and 'int'"
     ]
    }
   ],
   "source": [
    "encypted_answers[0].choices[0].decrypt(decryption_factors, pk)"
   ]
  },
  {
   "cell_type": "code",
   "execution_count": 27,
   "metadata": {},
   "outputs": [
    {
     "data": {
      "text/plain": [
       "[1, 2, 3, 4]"
      ]
     },
     "execution_count": 27,
     "metadata": {},
     "output_type": "execute_result"
    }
   ],
   "source": [
    "list(range(1, 5))"
   ]
  },
  {
   "cell_type": "code",
   "execution_count": 3,
   "metadata": {},
   "outputs": [],
   "source": []
  },
  {
   "cell_type": "code",
   "execution_count": 56,
   "metadata": {},
   "outputs": [],
   "source": [
    "xs = np.load(f\"encrypted_answers/all_answers_with_4_choices.npy\",  allow_pickle=True)\n",
    "election_keypair = pickle.load(open(\"election_keypair.p\", \"rb\"))\n",
    "decryption_factors = election_keypair[\"decryption_factors\"]\n",
    "pk = election_keypair[\"public_key\"]\n",
    "\n",
    "q_num = 0\n",
    "a_num = 0\n",
    "dec_factor_list = [df[q_num][a_num] for df in decryption_factors]"
   ]
  },
  {
   "cell_type": "code",
   "execution_count": 57,
   "metadata": {},
   "outputs": [
    {
     "data": {
      "text/plain": [
       "14678644347333918513058728299899450179582154072056843026102007728222895313808169161575312889897792251157871599030510103870225831966092631074349926929537163597921628815127881669625144857215285256367771341227890184649381005214179606883402346839994515823244730172970724637737142889871850814078098128705542748597020063352474692844791965309609425996757664699877385247077645169080192197328706239577305996168697465438050189872574048388246584589859151443202783188560123437563106355765312936877980794123864806609974606923193600267009752548803419834114991756961715520926756108099484391291103363672376618345778046692160576457615"
      ]
     },
     "execution_count": 57,
     "metadata": {},
     "output_type": "execute_result"
    }
   ],
   "source": [
    "xs[0].choices[0].decrypt(dec_factor_list, pk)"
   ]
  },
  {
   "cell_type": "code",
   "execution_count": 58,
   "metadata": {},
   "outputs": [
    {
     "data": {
      "text/plain": [
       "14887492224963187634282421537186040801304008017743492304481737382571933937568724473847106029915040150784031882206090286938661464458896494215273989547889201144857352611058572236578734319505128042602372864570426550855201448111746579871811249114781674309062693442442368697449970648232621880001709535143047913661432883287150003429802392229361583608686643243349727791976247247948618930423866180410558458272606627111270040091203073580238905303994472202930783207472394578498507764703191288249547659899997131166130259700604433891232298182348403175947450284433411265966789131024573629546048637848902243503970966798589660808533"
      ]
     },
     "execution_count": 58,
     "metadata": {},
     "output_type": "execute_result"
    }
   ],
   "source": [
    "pk.g"
   ]
  },
  {
   "cell_type": "code",
   "execution_count": 18,
   "metadata": {},
   "outputs": [
    {
     "data": {
      "text/plain": [
       "{'pk': <helios.crypto.elgamal.PublicKey at 0x113076610>,\n",
       " 'alpha': 7624700057623326213293990262890455027670034793713012268645240409248405844116365675186901125389192668950808585248302931164406352548096341348313734139444049975166675941100538515919441406760785565678840758682301824355543044133434624979503178268786168743061154410113276484409524239477825231412639148058495290234484078672549994988383256682230859587302830162177207606782300761563742524786309091523523595723084380519686989933049693404818872872400671914615065229129236058683459205188324821889415651438184837950382883008253727663610854644573354995083747952883950995761342030117357917378497632279112277689324744406606392295730,\n",
       " 'beta': 10814054462018326646940965879832221092529688158982020117777031330441200071479154916287529512841565991178740558227374746224577327995203586968020200992154034207554147555481100210876693366637190801929791678418782804904239439152619681185163005473760911828564611851807250033292217173703914016571416923789243993790294318990593901485751663141121393489280787624811157040671744853822150824017004633515652725304312165161607422685515657554389782160800437461751661750340163819729015293938083717017893046177420771977450270926800708900596915092610687768811850388473392600697524919315461946528176668047154798442531004444687687525969}"
      ]
     },
     "execution_count": 18,
     "metadata": {},
     "output_type": "execute_result"
    }
   ],
   "source": [
    "xs[1].choices[0].__dict__"
   ]
  },
  {
   "cell_type": "code",
   "execution_count": 59,
   "metadata": {},
   "outputs": [
    {
     "data": {
      "text/plain": [
       "61329566248342901292543872769978950870633559608669337131139375508370458778917"
      ]
     },
     "execution_count": 59,
     "metadata": {},
     "output_type": "execute_result"
    }
   ],
   "source": [
    "pk.q"
   ]
  },
  {
   "cell_type": "code",
   "execution_count": null,
   "metadata": {},
   "outputs": [],
   "source": []
  }
 ],
 "metadata": {
  "kernelspec": {
   "display_name": "Python 3 (ipykernel)",
   "language": "python",
   "name": "python3"
  },
  "language_info": {
   "codemirror_mode": {
    "name": "ipython",
    "version": 3
   },
   "file_extension": ".py",
   "mimetype": "text/x-python",
   "name": "python",
   "nbconvert_exporter": "python",
   "pygments_lexer": "ipython3",
   "version": "3.9.13"
  },
  "vscode": {
   "interpreter": {
    "hash": "bba63158daf8f0bfc206d0878743edfb4c6873c2fe9a093a4c8cb5a6f9843d61"
   }
  }
 },
 "nbformat": 4,
 "nbformat_minor": 4
}
